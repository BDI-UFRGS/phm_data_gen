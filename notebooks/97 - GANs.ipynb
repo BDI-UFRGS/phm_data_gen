{
 "cells": [
  {
   "cell_type": "code",
   "execution_count": 1,
   "id": "89a56c53",
   "metadata": {},
   "outputs": [],
   "source": [
    "# https://datahacker.rs/006-gans-how-to-develop-a-1d-gan-from-scratch/"
   ]
  },
  {
   "cell_type": "code",
   "execution_count": 2,
   "id": "9e42498e",
   "metadata": {},
   "outputs": [],
   "source": [
    "import torch \n",
    "import torch.nn as nn\n",
    "import matplotlib.pyplot as plt\n",
    "from tqdm import tqdm"
   ]
  },
  {
   "cell_type": "code",
   "execution_count": 3,
   "id": "c2682d25",
   "metadata": {},
   "outputs": [],
   "source": [
    "import torch.nn.functional as F"
   ]
  },
  {
   "cell_type": "code",
   "execution_count": 4,
   "id": "92b6e91e",
   "metadata": {},
   "outputs": [
    {
     "name": "stdout",
     "output_type": "stream",
     "text": [
      "tensor(1.)\n",
      "tensor(0.)\n"
     ]
    }
   ],
   "source": [
    "def sine_function(x):\n",
    "    return torch.sin(x)\n",
    "\n",
    "# test sine_function()    \n",
    "print(sine_function(torch.tensor(torch.pi * 0.5 )))\n",
    "print(sine_function(torch.tensor(torch.pi * 0. )))"
   ]
  },
  {
   "cell_type": "code",
   "execution_count": 5,
   "id": "216e6e7f",
   "metadata": {},
   "outputs": [
    {
     "data": {
      "text/plain": [
       "<matplotlib.collections.PathCollection at 0x7fb041a02e50>"
      ]
     },
     "execution_count": 5,
     "metadata": {},
     "output_type": "execute_result"
    },
    {
     "data": {
      "image/png": "[encoded data removed]",
      "text/plain": [
       "<Figure size 432x288 with 1 Axes>"
      ]
     },
     "metadata": {
      "needs_background": "light"
     },
     "output_type": "display_data"
    }
   ],
   "source": [
    "x = torch.rand(100) * 2 * torch.pi\n",
    "y = sine_function(x)\n",
    "# plot the sine wave function\n",
    "plt.scatter(x.numpy(), y.numpy())"
   ]
  },
  {
   "cell_type": "code",
   "execution_count": 6,
   "id": "6436e301",
   "metadata": {},
   "outputs": [],
   "source": [
    "def generate_data_samples(n=100):\n",
    "    # here we define the number of n numbers from a Uniform distribution\n",
    "    x1 = torch.rand(n) * 2 * torch.pi\n",
    "    x2 = sine_function(x1)\n",
    "    x1 = x1.view(n,1)\n",
    "    x2 = x2.view(n,1)\n",
    "    y_data = torch.ones((n,1))\n",
    "\n",
    "    return torch.hstack((x1, x2)), y_data"
   ]
  },
  {
   "cell_type": "code",
   "execution_count": 7,
   "id": "a4af6fdf",
   "metadata": {},
   "outputs": [
    {
     "data": {
      "text/plain": [
       "<matplotlib.collections.PathCollection at 0x7fb03103cdc0>"
      ]
     },
     "execution_count": 7,
     "metadata": {},
     "output_type": "execute_result"
    },
    {
     "data": {
      "image/png": "[encoded data removed]",
      "text/plain": [
       "<Figure size 432x288 with 1 Axes>"
      ]
     },
     "metadata": {
      "needs_background": "light"
     },
     "output_type": "display_data"
    }
   ],
   "source": [
    "test_generated_data = generate_data_samples(100)\n",
    "\n",
    "plt.scatter(test_generated_data[0][:,0].numpy(), test_generated_data[0][:,1].numpy())"
   ]
  },
  {
   "cell_type": "code",
   "execution_count": 8,
   "id": "f99570cd",
   "metadata": {},
   "outputs": [],
   "source": [
    "class Discriminator(nn.Module):\n",
    "    def __init__(self):\n",
    "        super(Discriminator, self).__init__()\n",
    "        self.fc1 = nn.Linear(2, 25)\n",
    "        self.fc2 = nn.Linear(25,1)\n",
    "\n",
    "    def forward(self,x):\n",
    "        x = self.fc1(x)\n",
    "        x = F.relu(x)\n",
    "        x = self.fc2(x)\n",
    "        x = torch.sigmoid(x)\n",
    "        return x"
   ]
  },
  {
   "cell_type": "code",
   "execution_count": 9,
   "id": "c0ecb2db",
   "metadata": {},
   "outputs": [
    {
     "data": {
      "text/plain": [
       "tensor([0.3892], grad_fn=<SigmoidBackward0>)"
      ]
     },
     "execution_count": 9,
     "metadata": {},
     "output_type": "execute_result"
    }
   ],
   "source": [
    "discriminator = Discriminator()\n",
    "# test a discriminator with a simple input - sanity check\n",
    "x_data_test = torch.rand(2)\n",
    "discriminator(x_data_test)"
   ]
  },
  {
   "cell_type": "code",
   "execution_count": 10,
   "id": "b8fb6587",
   "metadata": {},
   "outputs": [],
   "source": [
    "def generate_dummy_fake_data(n):\n",
    "    x1 = torch.rand(n) * 2 * torch.pi\n",
    "    x2 = torch.rand(n) * 2 * torch.pi\n",
    "    x1 = x1.view(n,1)\n",
    "    x2 = x2.view(n,1)\n",
    "    y_fake = torch.zeros((n,1))\n",
    "    return torch.hstack((x1, x2)), y_fake"
   ]
  },
  {
   "cell_type": "code",
   "execution_count": 11,
   "id": "6eadbaf4",
   "metadata": {},
   "outputs": [
    {
     "data": {
      "text/plain": [
       "<matplotlib.collections.PathCollection at 0x7fb0200b4700>"
      ]
     },
     "execution_count": 11,
     "metadata": {},
     "output_type": "execute_result"
    },
    {
     "data": {
      "image/png": "[encoded data removed]",
      "text/plain": [
       "<Figure size 432x288 with 1 Axes>"
      ]
     },
     "metadata": {
      "needs_background": "light"
     },
     "output_type": "display_data"
    }
   ],
   "source": [
    "x_fake,y_fake = generate_dummy_fake_data(100)\n",
    "plt.scatter(x_fake[:, 0].numpy(),x_fake[:, 1].numpy())"
   ]
  },
  {
   "cell_type": "code",
   "execution_count": 12,
   "id": "1e3cfb6f",
   "metadata": {},
   "outputs": [],
   "source": [
    "discriminator = Discriminator()\n",
    "optimizer = torch.optim.Adam(discriminator.parameters(), lr = 0.001) \n",
    "criterion = torch.nn.BCELoss()"
   ]
  },
  {
   "cell_type": "code",
   "execution_count": 13,
   "id": "9c9d030c",
   "metadata": {},
   "outputs": [],
   "source": [
    "epochs = 1000\n",
    "n = 100\n",
    "x_data, y_data = generate_data_samples(n)\n",
    "x_fake, y_fake = generate_dummy_fake_data(n)\n",
    "\n",
    "x_all = torch.vstack((x_data, x_fake))\n",
    "y_all = torch.vstack((y_data, y_fake))\n",
    "all_loss = []\n",
    "for i in range(epochs):\n",
    "    y_hat = discriminator(x_all)\n",
    "    loss = criterion(y_hat, y_all)\n",
    "    all_loss.append(loss.item())\n",
    "\n",
    "    loss.backward()\n",
    "    optimizer.step()\n",
    "    optimizer.zero_grad()"
   ]
  },
  {
   "cell_type": "code",
   "execution_count": 14,
   "id": "43149a35",
   "metadata": {},
   "outputs": [
    {
     "data": {
      "text/plain": [
       "[<matplotlib.lines.Line2D at 0x7fb0534ef790>]"
      ]
     },
     "execution_count": 14,
     "metadata": {},
     "output_type": "execute_result"
    },
    {
     "data": {
      "image/png": "[encoded data removed]",
      "text/plain": [
       "<Figure size 432x288 with 1 Axes>"
      ]
     },
     "metadata": {
      "needs_background": "light"
     },
     "output_type": "display_data"
    }
   ],
   "source": [
    "plt.plot(all_loss)"
   ]
  },
  {
   "cell_type": "code",
   "execution_count": 15,
   "id": "d83db053",
   "metadata": {},
   "outputs": [],
   "source": [
    "# define a Generator Model\n",
    "\n",
    "class Generator(nn.Module):\n",
    "    def __init__(self):\n",
    "        super(Generator, self).__init__()\n",
    "\n",
    "        self.fc1 = nn.Linear(5,15)\n",
    "        self.fc2 = nn.Linear(15, 2)\n",
    "\n",
    "    def forward(self, x):\n",
    "        x = self.fc1(x)\n",
    "        x = F.relu(x)\n",
    "        x = self.fc2(x)\n",
    "        # note that here we are not adding any activation functions\n",
    "        # since we assume the linear output as the values can be negative as well\n",
    "        # in other words this activation function here is just an \"identity function\" f(x)=x\n",
    "        return x"
   ]
  },
  {
   "cell_type": "code",
   "execution_count": 16,
   "id": "742083f8",
   "metadata": {},
   "outputs": [
    {
     "name": "stdout",
     "output_type": "stream",
     "text": [
      "tensor([0.3233, 0.0193], grad_fn=<ViewBackward0>)\n"
     ]
    }
   ],
   "source": [
    "generator = Generator()\n",
    "test_generator = generator(torch.rand(5))\n",
    "print(test_generator)"
   ]
  },
  {
   "cell_type": "code",
   "execution_count": 17,
   "id": "d700a1ee",
   "metadata": {},
   "outputs": [
    {
     "name": "stdout",
     "output_type": "stream",
     "text": [
      "tensor([[0.1295, 0.1874, 0.9095, 0.3010, 0.0834],\n",
      "        [0.8754, 0.9548, 0.0648, 0.9894, 0.0615],\n",
      "        [0.5957, 0.8327, 0.7351, 0.6258, 0.3027],\n",
      "        [0.3193, 0.1908, 0.2449, 0.1315, 0.3424],\n",
      "        [0.4276, 0.5622, 0.4182, 0.7386, 0.9760],\n",
      "        [0.2043, 0.9000, 0.8908, 0.0958, 0.2605],\n",
      "        [0.9206, 0.6785, 0.4909, 0.7992, 0.0294],\n",
      "        [0.8462, 0.1097, 0.3580, 0.6223, 0.7642],\n",
      "        [0.5535, 0.4141, 0.6943, 0.4394, 0.8999],\n",
      "        [0.9144, 0.9927, 0.4250, 0.1243, 0.4524]])\n"
     ]
    }
   ],
   "source": [
    "def generate_latent_points(n, latent_dim=5):\n",
    "    # here we will assume that in the z-space \n",
    "    # or latent space we have 5 dimensional random vector \n",
    "    z = torch.rand(n*latent_dim)\n",
    "    return z.view((n,latent_dim))\n",
    "\n",
    "a = generate_latent_points(10)\n",
    "print(a)"
   ]
  },
  {
   "cell_type": "code",
   "execution_count": 18,
   "id": "9c8a3f48",
   "metadata": {},
   "outputs": [],
   "source": [
    "def generate_fake_samples(generator, n, latent_dim=5):\n",
    "    z = generate_latent_points(n)\n",
    "    fake_data = generator(z)\n",
    "    return fake_data "
   ]
  },
  {
   "cell_type": "code",
   "execution_count": 19,
   "id": "b129eae9",
   "metadata": {},
   "outputs": [
    {
     "data": {
      "text/plain": [
       "<matplotlib.collections.PathCollection at 0x7fb020f2fd30>"
      ]
     },
     "execution_count": 19,
     "metadata": {},
     "output_type": "execute_result"
    },
    {
     "data": {
      "image/png": "[encoded data removed]",
      "text/plain": [
       "<Figure size 432x288 with 1 Axes>"
      ]
     },
     "metadata": {
      "needs_background": "light"
     },
     "output_type": "display_data"
    }
   ],
   "source": [
    "fake_data_test = generate_fake_samples(generator, 100)\n",
    "plt.scatter(fake_data_test[:,0].detach().numpy(), fake_data_test[:,1].detach().numpy())"
   ]
  },
  {
   "cell_type": "code",
   "execution_count": 20,
   "id": "6d3cafa6",
   "metadata": {
    "scrolled": true
   },
   "outputs": [
    {
     "name": "stderr",
     "output_type": "stream",
     "text": [
      "100%|██████████████████████████████████| 200000/200000 [04:54<00:00, 680.26it/s]\n"
     ]
    }
   ],
   "source": [
    "training_steps = 200000    \n",
    "\n",
    "# Models\n",
    "generator =     Generator()\n",
    "discriminator = Discriminator()\n",
    "\n",
    "# Optimizers\n",
    "generator_optimizer     = torch.optim.Adam(generator.parameters(),     lr=0.001)\n",
    "discriminator_optimizer = torch.optim.Adam(discriminator.parameters(), lr=0.001)\n",
    "\n",
    "# loss\n",
    "loss = nn.BCELoss()\n",
    "\n",
    "N = 128\n",
    "\n",
    "for i in tqdm(range(training_steps)):\n",
    "    # zero the gradients on each iteration\n",
    "    generator_optimizer.zero_grad()\n",
    "#    if i%5000 ==0:\n",
    "#        print(f\"{i} \\n\")\n",
    "\n",
    "    # Create a fake data with a generator\n",
    "    fake_data = generate_fake_samples(generator, N)\n",
    "\n",
    "    # here we define the INVERSE labels for fake data\n",
    "    fake_data_label = torch.ones(N,1)\n",
    "\n",
    "    # Generate examples of real data\n",
    "    real_data, real_data_label = generate_data_samples(N)\n",
    "    \n",
    "    # Train the generator\n",
    "    # We invert the labels here and don't train the discriminator because we want the generator\n",
    "    # to make things the discriminator classifies as true.\n",
    "    generator_discriminator_out = discriminator(fake_data)\n",
    "    generator_loss = loss(generator_discriminator_out, fake_data_label)\n",
    "    generator_loss.backward()\n",
    "    generator_optimizer.step()\n",
    "\n",
    "    # Train the discriminator on the true/generated data\n",
    "    discriminator_optimizer.zero_grad()\n",
    "    true_discriminator_out = discriminator(real_data)\n",
    "    true_discriminator_loss = loss(true_discriminator_out, real_data_label)\n",
    "\n",
    "    # here a fake_data is passed with a gradient turned off\n",
    "    # see our post about <a href=\"https://datahacker.rs/004-computational-graph-and-autograd-with-pytorch/#Automatic-differentiation-module-in-PyTorch---Autograd\">AUTOGRAD</a>\n",
    "    generator_discriminator_out = discriminator(fake_data.detach())\n",
    "    generator_discriminator_loss = loss(generator_discriminator_out, torch.zeros(N,1))\n",
    "    discriminator_loss = (true_discriminator_loss + generator_discriminator_loss) / 2\n",
    "    discriminator_loss.backward()\n",
    "    discriminator_optimizer.step()"
   ]
  },
  {
   "cell_type": "code",
   "execution_count": 21,
   "id": "32473180",
   "metadata": {},
   "outputs": [
    {
     "data": {
      "text/plain": [
       "<matplotlib.collections.PathCollection at 0x7fb053ed25e0>"
      ]
     },
     "execution_count": 21,
     "metadata": {},
     "output_type": "execute_result"
    },
    {
     "data": {
      "image/png": "[encoded data removed]",
      "text/plain": [
       "<Figure size 432x288 with 1 Axes>"
      ]
     },
     "metadata": {
      "needs_background": "light"
     },
     "output_type": "display_data"
    }
   ],
   "source": [
    "plt.scatter(real_data[:,0].detach().numpy(), real_data[:,1].detach().numpy())\n",
    "plt.scatter(fake_data[:,0].detach().numpy(), fake_data[:,1].detach().numpy())"
   ]
  },
  {
   "cell_type": "code",
   "execution_count": null,
   "id": "4136caed",
   "metadata": {},
   "outputs": [],
   "source": []
  }
 ],
 "metadata": {
  "kernelspec": {
   "display_name": "Python 3 (ipykernel)",
   "language": "python",
   "name": "python3"
  },
  "language_info": {
   "codemirror_mode": {
    "name": "ipython",
    "version": 3
   },
   "file_extension": ".py",
   "mimetype": "text/x-python",
   "name": "python",
   "nbconvert_exporter": "python",
   "pygments_lexer": "ipython3",
   "version": "3.9.12"
  }
 },
 "nbformat": 4,
 "nbformat_minor": 5
}
