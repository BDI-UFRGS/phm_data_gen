{
 "cells": [
  {
   "cell_type": "code",
   "execution_count": 66,
   "id": "d9c154c8",
   "metadata": {},
   "outputs": [],
   "source": [
    "import torch \n",
    "import torch.nn as nn\n",
    "import matplotlib.pyplot as plt\n",
    "from tqdm import tqdm\n",
    "import numpy as np\n",
    "import pandas as pd\n",
    "\n",
    "import torch.nn.functional as F\n",
    "\n",
    "import random\n",
    "import math\n",
    "import joblib"
   ]
  },
  {
   "cell_type": "markdown",
   "id": "0a76c5bd",
   "metadata": {},
   "source": [
    "## Data for GAN training"
   ]
  },
  {
   "cell_type": "code",
   "execution_count": 2,
   "id": "2906e44e",
   "metadata": {},
   "outputs": [],
   "source": [
    "df_gan_real = joblib.load('../inputs/pre-processed/df_gan_real.pkl')"
   ]
  },
  {
   "cell_type": "code",
   "execution_count": 3,
   "id": "487340a3",
   "metadata": {},
   "outputs": [
    {
     "data": {
      "text/html": [
       "<div>\n",
       "<style scoped>\n",
       "    .dataframe tbody tr th:only-of-type {\n",
       "        vertical-align: middle;\n",
       "    }\n",
       "\n",
       "    .dataframe tbody tr th {\n",
       "        vertical-align: top;\n",
       "    }\n",
       "\n",
       "    .dataframe thead th {\n",
       "        text-align: right;\n",
       "    }\n",
       "</style>\n",
       "<table border=\"1\" class=\"dataframe\">\n",
       "  <thead>\n",
       "    <tr style=\"text-align: right;\">\n",
       "      <th></th>\n",
       "      <th>P_Z0_before</th>\n",
       "      <th>P_Z0_after</th>\n",
       "      <th>P_Z1_before</th>\n",
       "      <th>P_Z1_after</th>\n",
       "      <th>P_WH_before</th>\n",
       "      <th>P_WH_after</th>\n",
       "      <th>T_Z0_before</th>\n",
       "      <th>T_Z0_after</th>\n",
       "      <th>T_Z1_before</th>\n",
       "      <th>T_Z1_after</th>\n",
       "      <th>P_bottom_before</th>\n",
       "      <th>P_bottom_after</th>\n",
       "      <th>T_WH_before</th>\n",
       "      <th>T_WH_after</th>\n",
       "      <th>failure</th>\n",
       "    </tr>\n",
       "  </thead>\n",
       "  <tbody>\n",
       "    <tr>\n",
       "      <th>0</th>\n",
       "      <td>0.880689</td>\n",
       "      <td>0.883310</td>\n",
       "      <td>0.880682</td>\n",
       "      <td>0.885696</td>\n",
       "      <td>0.911670</td>\n",
       "      <td>0.911528</td>\n",
       "      <td>0.000000</td>\n",
       "      <td>0.286272</td>\n",
       "      <td>0.300062</td>\n",
       "      <td>0.300035</td>\n",
       "      <td>0.681089</td>\n",
       "      <td>0.679748</td>\n",
       "      <td>0.900163</td>\n",
       "      <td>0.895531</td>\n",
       "      <td>0.0</td>\n",
       "    </tr>\n",
       "    <tr>\n",
       "      <th>1</th>\n",
       "      <td>0.881517</td>\n",
       "      <td>0.884084</td>\n",
       "      <td>0.881510</td>\n",
       "      <td>0.886472</td>\n",
       "      <td>0.912527</td>\n",
       "      <td>0.912327</td>\n",
       "      <td>0.286213</td>\n",
       "      <td>0.286228</td>\n",
       "      <td>0.299981</td>\n",
       "      <td>0.300048</td>\n",
       "      <td>0.681729</td>\n",
       "      <td>0.680344</td>\n",
       "      <td>0.900614</td>\n",
       "      <td>0.895979</td>\n",
       "      <td>0.0</td>\n",
       "    </tr>\n",
       "    <tr>\n",
       "      <th>2</th>\n",
       "      <td>0.880936</td>\n",
       "      <td>0.883653</td>\n",
       "      <td>0.880929</td>\n",
       "      <td>0.886040</td>\n",
       "      <td>0.911926</td>\n",
       "      <td>0.911882</td>\n",
       "      <td>0.286257</td>\n",
       "      <td>0.286242</td>\n",
       "      <td>0.300075</td>\n",
       "      <td>0.300075</td>\n",
       "      <td>0.681280</td>\n",
       "      <td>0.680012</td>\n",
       "      <td>0.900163</td>\n",
       "      <td>0.895979</td>\n",
       "      <td>0.0</td>\n",
       "    </tr>\n",
       "    <tr>\n",
       "      <th>3</th>\n",
       "      <td>0.963877</td>\n",
       "      <td>0.967061</td>\n",
       "      <td>0.963869</td>\n",
       "      <td>0.969673</td>\n",
       "      <td>0.997784</td>\n",
       "      <td>0.997954</td>\n",
       "      <td>0.273708</td>\n",
       "      <td>0.273602</td>\n",
       "      <td>0.285997</td>\n",
       "      <td>0.285829</td>\n",
       "      <td>0.745423</td>\n",
       "      <td>0.744198</td>\n",
       "      <td>0.216735</td>\n",
       "      <td>0.216961</td>\n",
       "      <td>0.0</td>\n",
       "    </tr>\n",
       "    <tr>\n",
       "      <th>4</th>\n",
       "      <td>0.882956</td>\n",
       "      <td>0.885347</td>\n",
       "      <td>0.882949</td>\n",
       "      <td>0.887738</td>\n",
       "      <td>0.914017</td>\n",
       "      <td>0.913630</td>\n",
       "      <td>0.286184</td>\n",
       "      <td>0.286199</td>\n",
       "      <td>0.299955</td>\n",
       "      <td>0.299968</td>\n",
       "      <td>0.682842</td>\n",
       "      <td>0.681316</td>\n",
       "      <td>0.901065</td>\n",
       "      <td>0.896428</td>\n",
       "      <td>0.0</td>\n",
       "    </tr>\n",
       "    <tr>\n",
       "      <th>...</th>\n",
       "      <td>...</td>\n",
       "      <td>...</td>\n",
       "      <td>...</td>\n",
       "      <td>...</td>\n",
       "      <td>...</td>\n",
       "      <td>...</td>\n",
       "      <td>...</td>\n",
       "      <td>...</td>\n",
       "      <td>...</td>\n",
       "      <td>...</td>\n",
       "      <td>...</td>\n",
       "      <td>...</td>\n",
       "      <td>...</td>\n",
       "      <td>...</td>\n",
       "      <td>...</td>\n",
       "    </tr>\n",
       "    <tr>\n",
       "      <th>9993</th>\n",
       "      <td>0.883036</td>\n",
       "      <td>0.895666</td>\n",
       "      <td>0.870898</td>\n",
       "      <td>0.887070</td>\n",
       "      <td>0.287619</td>\n",
       "      <td>0.277391</td>\n",
       "      <td>0.286052</td>\n",
       "      <td>0.290235</td>\n",
       "      <td>0.301354</td>\n",
       "      <td>0.294628</td>\n",
       "      <td>0.912764</td>\n",
       "      <td>0.918396</td>\n",
       "      <td>0.887348</td>\n",
       "      <td>0.889282</td>\n",
       "      <td>1.0</td>\n",
       "    </tr>\n",
       "    <tr>\n",
       "      <th>9995</th>\n",
       "      <td>0.884062</td>\n",
       "      <td>0.878863</td>\n",
       "      <td>0.858351</td>\n",
       "      <td>0.873352</td>\n",
       "      <td>0.354632</td>\n",
       "      <td>0.346057</td>\n",
       "      <td>0.286374</td>\n",
       "      <td>0.280552</td>\n",
       "      <td>0.298908</td>\n",
       "      <td>0.299375</td>\n",
       "      <td>0.912205</td>\n",
       "      <td>0.858235</td>\n",
       "      <td>0.851455</td>\n",
       "      <td>0.793433</td>\n",
       "      <td>1.0</td>\n",
       "    </tr>\n",
       "    <tr>\n",
       "      <th>9996</th>\n",
       "      <td>0.918889</td>\n",
       "      <td>0.897820</td>\n",
       "      <td>0.921813</td>\n",
       "      <td>0.923951</td>\n",
       "      <td>0.355926</td>\n",
       "      <td>0.349120</td>\n",
       "      <td>0.286013</td>\n",
       "      <td>0.283202</td>\n",
       "      <td>0.298104</td>\n",
       "      <td>0.305716</td>\n",
       "      <td>0.888643</td>\n",
       "      <td>0.930148</td>\n",
       "      <td>0.829160</td>\n",
       "      <td>0.875546</td>\n",
       "      <td>1.0</td>\n",
       "    </tr>\n",
       "    <tr>\n",
       "      <th>9997</th>\n",
       "      <td>0.883785</td>\n",
       "      <td>0.883423</td>\n",
       "      <td>0.892194</td>\n",
       "      <td>0.882118</td>\n",
       "      <td>0.348669</td>\n",
       "      <td>0.353311</td>\n",
       "      <td>0.291266</td>\n",
       "      <td>0.283867</td>\n",
       "      <td>0.303656</td>\n",
       "      <td>0.303889</td>\n",
       "      <td>0.920046</td>\n",
       "      <td>0.913415</td>\n",
       "      <td>0.877215</td>\n",
       "      <td>0.855864</td>\n",
       "      <td>1.0</td>\n",
       "    </tr>\n",
       "    <tr>\n",
       "      <th>9998</th>\n",
       "      <td>0.978534</td>\n",
       "      <td>0.974342</td>\n",
       "      <td>0.955167</td>\n",
       "      <td>0.989982</td>\n",
       "      <td>0.179751</td>\n",
       "      <td>0.172011</td>\n",
       "      <td>0.283309</td>\n",
       "      <td>0.289732</td>\n",
       "      <td>0.286295</td>\n",
       "      <td>0.287955</td>\n",
       "      <td>0.978200</td>\n",
       "      <td>0.858929</td>\n",
       "      <td>0.941576</td>\n",
       "      <td>0.918467</td>\n",
       "      <td>1.0</td>\n",
       "    </tr>\n",
       "  </tbody>\n",
       "</table>\n",
       "<p>9952 rows × 15 columns</p>\n",
       "</div>"
      ],
      "text/plain": [
       "      P_Z0_before  P_Z0_after  P_Z1_before  P_Z1_after  P_WH_before  \\\n",
       "0        0.880689    0.883310     0.880682    0.885696     0.911670   \n",
       "1        0.881517    0.884084     0.881510    0.886472     0.912527   \n",
       "2        0.880936    0.883653     0.880929    0.886040     0.911926   \n",
       "3        0.963877    0.967061     0.963869    0.969673     0.997784   \n",
       "4        0.882956    0.885347     0.882949    0.887738     0.914017   \n",
       "...           ...         ...          ...         ...          ...   \n",
       "9993     0.883036    0.895666     0.870898    0.887070     0.287619   \n",
       "9995     0.884062    0.878863     0.858351    0.873352     0.354632   \n",
       "9996     0.918889    0.897820     0.921813    0.923951     0.355926   \n",
       "9997     0.883785    0.883423     0.892194    0.882118     0.348669   \n",
       "9998     0.978534    0.974342     0.955167    0.989982     0.179751   \n",
       "\n",
       "      P_WH_after  T_Z0_before  T_Z0_after  T_Z1_before  T_Z1_after  \\\n",
       "0       0.911528     0.000000    0.286272     0.300062    0.300035   \n",
       "1       0.912327     0.286213    0.286228     0.299981    0.300048   \n",
       "2       0.911882     0.286257    0.286242     0.300075    0.300075   \n",
       "3       0.997954     0.273708    0.273602     0.285997    0.285829   \n",
       "4       0.913630     0.286184    0.286199     0.299955    0.299968   \n",
       "...          ...          ...         ...          ...         ...   \n",
       "9993    0.277391     0.286052    0.290235     0.301354    0.294628   \n",
       "9995    0.346057     0.286374    0.280552     0.298908    0.299375   \n",
       "9996    0.349120     0.286013    0.283202     0.298104    0.305716   \n",
       "9997    0.353311     0.291266    0.283867     0.303656    0.303889   \n",
       "9998    0.172011     0.283309    0.289732     0.286295    0.287955   \n",
       "\n",
       "      P_bottom_before  P_bottom_after  T_WH_before  T_WH_after  failure  \n",
       "0            0.681089        0.679748     0.900163    0.895531      0.0  \n",
       "1            0.681729        0.680344     0.900614    0.895979      0.0  \n",
       "2            0.681280        0.680012     0.900163    0.895979      0.0  \n",
       "3            0.745423        0.744198     0.216735    0.216961      0.0  \n",
       "4            0.682842        0.681316     0.901065    0.896428      0.0  \n",
       "...               ...             ...          ...         ...      ...  \n",
       "9993         0.912764        0.918396     0.887348    0.889282      1.0  \n",
       "9995         0.912205        0.858235     0.851455    0.793433      1.0  \n",
       "9996         0.888643        0.930148     0.829160    0.875546      1.0  \n",
       "9997         0.920046        0.913415     0.877215    0.855864      1.0  \n",
       "9998         0.978200        0.858929     0.941576    0.918467      1.0  \n",
       "\n",
       "[9952 rows x 15 columns]"
      ]
     },
     "execution_count": 3,
     "metadata": {},
     "output_type": "execute_result"
    }
   ],
   "source": [
    "df_gan_real"
   ]
  },
  {
   "cell_type": "code",
   "execution_count": 4,
   "id": "40e5b7f1",
   "metadata": {},
   "outputs": [
    {
     "name": "stdout",
     "output_type": "stream",
     "text": [
      "<class 'pandas.core.frame.DataFrame'>\n",
      "Int64Index: 9952 entries, 0 to 9998\n",
      "Data columns (total 15 columns):\n",
      " #   Column           Non-Null Count  Dtype  \n",
      "---  ------           --------------  -----  \n",
      " 0   P_Z0_before      9952 non-null   float64\n",
      " 1   P_Z0_after       9952 non-null   float64\n",
      " 2   P_Z1_before      9952 non-null   float64\n",
      " 3   P_Z1_after       9952 non-null   float64\n",
      " 4   P_WH_before      9952 non-null   float64\n",
      " 5   P_WH_after       9952 non-null   float64\n",
      " 6   T_Z0_before      9952 non-null   float64\n",
      " 7   T_Z0_after       9952 non-null   float64\n",
      " 8   T_Z1_before      9952 non-null   float64\n",
      " 9   T_Z1_after       9952 non-null   float64\n",
      " 10  P_bottom_before  9952 non-null   float64\n",
      " 11  P_bottom_after   9952 non-null   float64\n",
      " 12  T_WH_before      9952 non-null   float64\n",
      " 13  T_WH_after       9952 non-null   float64\n",
      " 14  failure          9952 non-null   float64\n",
      "dtypes: float64(15)\n",
      "memory usage: 1.2 MB\n"
     ]
    }
   ],
   "source": [
    "df_gan_real.info()"
   ]
  },
  {
   "cell_type": "code",
   "execution_count": 5,
   "id": "0fa09d13",
   "metadata": {},
   "outputs": [
    {
     "data": {
      "text/html": [
       "<div>\n",
       "<style scoped>\n",
       "    .dataframe tbody tr th:only-of-type {\n",
       "        vertical-align: middle;\n",
       "    }\n",
       "\n",
       "    .dataframe tbody tr th {\n",
       "        vertical-align: top;\n",
       "    }\n",
       "\n",
       "    .dataframe thead th {\n",
       "        text-align: right;\n",
       "    }\n",
       "</style>\n",
       "<table border=\"1\" class=\"dataframe\">\n",
       "  <thead>\n",
       "    <tr style=\"text-align: right;\">\n",
       "      <th></th>\n",
       "      <th>P_Z0_before</th>\n",
       "      <th>P_Z0_after</th>\n",
       "      <th>P_Z1_before</th>\n",
       "      <th>P_Z1_after</th>\n",
       "      <th>P_WH_before</th>\n",
       "      <th>P_WH_after</th>\n",
       "      <th>T_Z0_before</th>\n",
       "      <th>T_Z0_after</th>\n",
       "      <th>T_Z1_before</th>\n",
       "      <th>T_Z1_after</th>\n",
       "      <th>P_bottom_before</th>\n",
       "      <th>P_bottom_after</th>\n",
       "      <th>T_WH_before</th>\n",
       "      <th>T_WH_after</th>\n",
       "      <th>failure</th>\n",
       "    </tr>\n",
       "  </thead>\n",
       "  <tbody>\n",
       "    <tr>\n",
       "      <th>count</th>\n",
       "      <td>9952.000000</td>\n",
       "      <td>9952.000000</td>\n",
       "      <td>9952.000000</td>\n",
       "      <td>9952.000000</td>\n",
       "      <td>9952.000000</td>\n",
       "      <td>9952.000000</td>\n",
       "      <td>9952.000000</td>\n",
       "      <td>9952.000000</td>\n",
       "      <td>9952.000000</td>\n",
       "      <td>9952.000000</td>\n",
       "      <td>9952.000000</td>\n",
       "      <td>9952.000000</td>\n",
       "      <td>9952.000000</td>\n",
       "      <td>9952.000000</td>\n",
       "      <td>9952.000000</td>\n",
       "    </tr>\n",
       "    <tr>\n",
       "      <th>mean</th>\n",
       "      <td>0.885386</td>\n",
       "      <td>0.888107</td>\n",
       "      <td>0.885516</td>\n",
       "      <td>0.890417</td>\n",
       "      <td>0.621929</td>\n",
       "      <td>0.621826</td>\n",
       "      <td>0.282035</td>\n",
       "      <td>0.282245</td>\n",
       "      <td>0.295613</td>\n",
       "      <td>0.295404</td>\n",
       "      <td>0.788410</td>\n",
       "      <td>0.789576</td>\n",
       "      <td>0.824172</td>\n",
       "      <td>0.819970</td>\n",
       "      <td>0.497588</td>\n",
       "    </tr>\n",
       "    <tr>\n",
       "      <th>std</th>\n",
       "      <td>0.106734</td>\n",
       "      <td>0.109333</td>\n",
       "      <td>0.106761</td>\n",
       "      <td>0.109445</td>\n",
       "      <td>0.305231</td>\n",
       "      <td>0.305790</td>\n",
       "      <td>0.032427</td>\n",
       "      <td>0.031461</td>\n",
       "      <td>0.032096</td>\n",
       "      <td>0.034295</td>\n",
       "      <td>0.139919</td>\n",
       "      <td>0.142756</td>\n",
       "      <td>0.186260</td>\n",
       "      <td>0.186731</td>\n",
       "      <td>0.500019</td>\n",
       "    </tr>\n",
       "    <tr>\n",
       "      <th>min</th>\n",
       "      <td>0.000000</td>\n",
       "      <td>0.000000</td>\n",
       "      <td>0.000000</td>\n",
       "      <td>0.000000</td>\n",
       "      <td>0.000000</td>\n",
       "      <td>0.000000</td>\n",
       "      <td>0.000000</td>\n",
       "      <td>0.000000</td>\n",
       "      <td>0.000000</td>\n",
       "      <td>0.000000</td>\n",
       "      <td>0.000000</td>\n",
       "      <td>0.000000</td>\n",
       "      <td>0.000000</td>\n",
       "      <td>0.000000</td>\n",
       "      <td>0.000000</td>\n",
       "    </tr>\n",
       "    <tr>\n",
       "      <th>25%</th>\n",
       "      <td>0.878326</td>\n",
       "      <td>0.881000</td>\n",
       "      <td>0.878313</td>\n",
       "      <td>0.883193</td>\n",
       "      <td>0.349702</td>\n",
       "      <td>0.349725</td>\n",
       "      <td>0.282908</td>\n",
       "      <td>0.282869</td>\n",
       "      <td>0.296197</td>\n",
       "      <td>0.296473</td>\n",
       "      <td>0.682305</td>\n",
       "      <td>0.680970</td>\n",
       "      <td>0.849536</td>\n",
       "      <td>0.848136</td>\n",
       "      <td>0.000000</td>\n",
       "    </tr>\n",
       "    <tr>\n",
       "      <th>50%</th>\n",
       "      <td>0.883861</td>\n",
       "      <td>0.886560</td>\n",
       "      <td>0.883887</td>\n",
       "      <td>0.888841</td>\n",
       "      <td>0.657162</td>\n",
       "      <td>0.656717</td>\n",
       "      <td>0.286199</td>\n",
       "      <td>0.286199</td>\n",
       "      <td>0.299888</td>\n",
       "      <td>0.299900</td>\n",
       "      <td>0.746957</td>\n",
       "      <td>0.745605</td>\n",
       "      <td>0.897005</td>\n",
       "      <td>0.892840</td>\n",
       "      <td>0.000000</td>\n",
       "    </tr>\n",
       "    <tr>\n",
       "      <th>75%</th>\n",
       "      <td>0.910181</td>\n",
       "      <td>0.916668</td>\n",
       "      <td>0.910383</td>\n",
       "      <td>0.919934</td>\n",
       "      <td>0.913525</td>\n",
       "      <td>0.913426</td>\n",
       "      <td>0.287518</td>\n",
       "      <td>0.287532</td>\n",
       "      <td>0.300275</td>\n",
       "      <td>0.300302</td>\n",
       "      <td>0.914168</td>\n",
       "      <td>0.914058</td>\n",
       "      <td>0.901065</td>\n",
       "      <td>0.896876</td>\n",
       "      <td>1.000000</td>\n",
       "    </tr>\n",
       "    <tr>\n",
       "      <th>max</th>\n",
       "      <td>1.000000</td>\n",
       "      <td>1.000000</td>\n",
       "      <td>1.000000</td>\n",
       "      <td>1.000000</td>\n",
       "      <td>1.000000</td>\n",
       "      <td>1.000000</td>\n",
       "      <td>1.000000</td>\n",
       "      <td>1.000000</td>\n",
       "      <td>1.000000</td>\n",
       "      <td>1.000000</td>\n",
       "      <td>1.000000</td>\n",
       "      <td>1.000000</td>\n",
       "      <td>1.000000</td>\n",
       "      <td>1.000000</td>\n",
       "      <td>1.000000</td>\n",
       "    </tr>\n",
       "  </tbody>\n",
       "</table>\n",
       "</div>"
      ],
      "text/plain": [
       "       P_Z0_before   P_Z0_after  P_Z1_before   P_Z1_after  P_WH_before  \\\n",
       "count  9952.000000  9952.000000  9952.000000  9952.000000  9952.000000   \n",
       "mean      0.885386     0.888107     0.885516     0.890417     0.621929   \n",
       "std       0.106734     0.109333     0.106761     0.109445     0.305231   \n",
       "min       0.000000     0.000000     0.000000     0.000000     0.000000   \n",
       "25%       0.878326     0.881000     0.878313     0.883193     0.349702   \n",
       "50%       0.883861     0.886560     0.883887     0.888841     0.657162   \n",
       "75%       0.910181     0.916668     0.910383     0.919934     0.913525   \n",
       "max       1.000000     1.000000     1.000000     1.000000     1.000000   \n",
       "\n",
       "        P_WH_after  T_Z0_before   T_Z0_after  T_Z1_before   T_Z1_after  \\\n",
       "count  9952.000000  9952.000000  9952.000000  9952.000000  9952.000000   \n",
       "mean      0.621826     0.282035     0.282245     0.295613     0.295404   \n",
       "std       0.305790     0.032427     0.031461     0.032096     0.034295   \n",
       "min       0.000000     0.000000     0.000000     0.000000     0.000000   \n",
       "25%       0.349725     0.282908     0.282869     0.296197     0.296473   \n",
       "50%       0.656717     0.286199     0.286199     0.299888     0.299900   \n",
       "75%       0.913426     0.287518     0.287532     0.300275     0.300302   \n",
       "max       1.000000     1.000000     1.000000     1.000000     1.000000   \n",
       "\n",
       "       P_bottom_before  P_bottom_after  T_WH_before   T_WH_after      failure  \n",
       "count      9952.000000     9952.000000  9952.000000  9952.000000  9952.000000  \n",
       "mean          0.788410        0.789576     0.824172     0.819970     0.497588  \n",
       "std           0.139919        0.142756     0.186260     0.186731     0.500019  \n",
       "min           0.000000        0.000000     0.000000     0.000000     0.000000  \n",
       "25%           0.682305        0.680970     0.849536     0.848136     0.000000  \n",
       "50%           0.746957        0.745605     0.897005     0.892840     0.000000  \n",
       "75%           0.914168        0.914058     0.901065     0.896876     1.000000  \n",
       "max           1.000000        1.000000     1.000000     1.000000     1.000000  "
      ]
     },
     "execution_count": 5,
     "metadata": {},
     "output_type": "execute_result"
    }
   ],
   "source": [
    "df_gan_real.describe()"
   ]
  },
  {
   "cell_type": "code",
   "execution_count": 6,
   "id": "9a998f0b",
   "metadata": {},
   "outputs": [],
   "source": [
    "# Converting pandas dataframe to pytorch tensor\n",
    "df_real_tensor = torch.tensor(df_gan_real.values)"
   ]
  },
  {
   "cell_type": "code",
   "execution_count": 7,
   "id": "37b834e2",
   "metadata": {},
   "outputs": [
    {
     "data": {
      "text/plain": [
       "tensor([[0.8807, 0.8833, 0.8807,  ..., 0.9002, 0.8955, 0.0000],\n",
       "        [0.8815, 0.8841, 0.8815,  ..., 0.9006, 0.8960, 0.0000],\n",
       "        [0.8809, 0.8837, 0.8809,  ..., 0.9002, 0.8960, 0.0000],\n",
       "        ...,\n",
       "        [0.9189, 0.8978, 0.9218,  ..., 0.8292, 0.8755, 1.0000],\n",
       "        [0.8838, 0.8834, 0.8922,  ..., 0.8772, 0.8559, 1.0000],\n",
       "        [0.9785, 0.9743, 0.9552,  ..., 0.9416, 0.9185, 1.0000]],\n",
       "       dtype=torch.float64)"
      ]
     },
     "execution_count": 7,
     "metadata": {},
     "output_type": "execute_result"
    }
   ],
   "source": [
    "df_real_tensor"
   ]
  },
  {
   "cell_type": "code",
   "execution_count": 8,
   "id": "35dabbd3",
   "metadata": {},
   "outputs": [
    {
     "data": {
      "text/plain": [
       "torch.Tensor"
      ]
     },
     "execution_count": 8,
     "metadata": {},
     "output_type": "execute_result"
    }
   ],
   "source": [
    "type(df_real_tensor)"
   ]
  },
  {
   "cell_type": "markdown",
   "id": "9e5291d5",
   "metadata": {},
   "source": [
    "## Discriminator"
   ]
  },
  {
   "cell_type": "code",
   "execution_count": 9,
   "id": "4ce3dae7",
   "metadata": {},
   "outputs": [],
   "source": [
    "class Discriminator_ndim(nn.Module):\n",
    "    def __init__(self, ndim, hidden):\n",
    "        super(Discriminator_ndim, self).__init__()\n",
    "        self.fc1 = nn.Linear(ndim, hidden)\n",
    "#         self.fc2 = nn.Linear(hidden, hidden)\n",
    "        self.fc3 = nn.Linear(hidden,1)\n",
    "\n",
    "    def forward(self,x):\n",
    "        x = self.fc1(x)\n",
    "        x = F.leaky_relu(x)\n",
    "#         x = self.fc2(x)\n",
    "#         x = F.leaky_relu(x)\n",
    "        x = self.fc3(x)\n",
    "        x = torch.sigmoid(x)\n",
    "        return x"
   ]
  },
  {
   "cell_type": "code",
   "execution_count": 10,
   "id": "c4a63440",
   "metadata": {},
   "outputs": [
    {
     "data": {
      "text/plain": [
       "tensor([0.4849], grad_fn=<SigmoidBackward0>)"
      ]
     },
     "execution_count": 10,
     "metadata": {},
     "output_type": "execute_result"
    }
   ],
   "source": [
    "discriminator = Discriminator_ndim(15, 25)\n",
    "# test a discriminator with a simple input - sanity check\n",
    "x_data_test = torch.rand(15)\n",
    "discriminator(x_data_test)"
   ]
  },
  {
   "cell_type": "code",
   "execution_count": 11,
   "id": "cfb0f891",
   "metadata": {},
   "outputs": [],
   "source": [
    "def sample_real_data(real_tensor, N_samples):\n",
    "    \n",
    "    idx = np.random.randint(0, real_tensor.shape[0], N_samples)\n",
    "    sample = real_tensor[idx, :].float()\n",
    "    \n",
    "    y_real = torch.ones((N_samples,1))\n",
    "    \n",
    "    return sample, y_real"
   ]
  },
  {
   "cell_type": "code",
   "execution_count": 12,
   "id": "46c98e31",
   "metadata": {},
   "outputs": [],
   "source": [
    "def generate_dummy_fake_ndim(n, ndim):\n",
    "    \n",
    "    signals = []\n",
    "    y_fake = torch.zeros((n,1))\n",
    "    \n",
    "    for dim in range(ndim):\n",
    "        \n",
    "        x_dim = torch.rand(n)\n",
    "        x_dim = x_dim.view(n, 1)\n",
    "        signals.append(x_dim)\n",
    "    \n",
    "    return torch.hstack(signals), y_fake"
   ]
  },
  {
   "cell_type": "code",
   "execution_count": 13,
   "id": "baa3c5ae",
   "metadata": {},
   "outputs": [],
   "source": [
    "fake = generate_dummy_fake_ndim(10, 15)"
   ]
  },
  {
   "cell_type": "code",
   "execution_count": 14,
   "id": "d6dafa10",
   "metadata": {},
   "outputs": [
    {
     "data": {
      "text/plain": [
       "torch.float32"
      ]
     },
     "execution_count": 14,
     "metadata": {},
     "output_type": "execute_result"
    }
   ],
   "source": [
    "fake[0].dtype"
   ]
  },
  {
   "cell_type": "code",
   "execution_count": 15,
   "id": "e3a1a782",
   "metadata": {},
   "outputs": [],
   "source": [
    "real = sample_real_data(df_real_tensor, 10)"
   ]
  },
  {
   "cell_type": "code",
   "execution_count": 16,
   "id": "2d811dbd",
   "metadata": {},
   "outputs": [
    {
     "data": {
      "text/plain": [
       "torch.float32"
      ]
     },
     "execution_count": 16,
     "metadata": {},
     "output_type": "execute_result"
    }
   ],
   "source": [
    "real[0].dtype"
   ]
  },
  {
   "cell_type": "code",
   "execution_count": 17,
   "id": "9e757fa0",
   "metadata": {},
   "outputs": [
    {
     "data": {
      "text/plain": [
       "torch.float32"
      ]
     },
     "execution_count": 17,
     "metadata": {},
     "output_type": "execute_result"
    }
   ],
   "source": [
    "real[1].dtype"
   ]
  },
  {
   "cell_type": "markdown",
   "id": "bc7b06d0",
   "metadata": {},
   "source": [
    "### Verifying if the discriminator is able to distinguish real data from completely random data"
   ]
  },
  {
   "cell_type": "code",
   "execution_count": 18,
   "id": "61f8ed4c",
   "metadata": {},
   "outputs": [],
   "source": [
    "epochs = 1000\n",
    "n = 100\n",
    "n_dim = 15\n",
    "hidden = 10\n",
    "\n",
    "discriminator = Discriminator_ndim(n_dim, hidden)\n",
    "optimizer = torch.optim.Adam(discriminator.parameters(), lr = 0.001) \n",
    "criterion = torch.nn.BCELoss()\n",
    "\n",
    "x_data, y_data = sample_real_data(df_real_tensor, n)\n",
    "x_fake, y_fake = generate_dummy_fake_ndim(n, n_dim)\n",
    "\n",
    "x_all = torch.vstack((x_data, x_fake))\n",
    "y_all = torch.vstack((y_data, y_fake))\n",
    "all_loss = []\n",
    "for i in range(epochs):\n",
    "    y_hat = discriminator(x_all)\n",
    "    loss = criterion(y_hat, y_all)\n",
    "    all_loss.append(loss.item())\n",
    "\n",
    "    loss.backward()\n",
    "    optimizer.step()\n",
    "    optimizer.zero_grad()"
   ]
  },
  {
   "cell_type": "code",
   "execution_count": 19,
   "id": "b6007ac1",
   "metadata": {},
   "outputs": [
    {
     "data": {
      "text/plain": [
       "[<matplotlib.lines.Line2D at 0x7fa858918940>]"
      ]
     },
     "execution_count": 19,
     "metadata": {},
     "output_type": "execute_result"
    },
    {
     "data": {
      "image/png": "[encoded data removed]",
      "text/plain": [
       "<Figure size 432x288 with 1 Axes>"
      ]
     },
     "metadata": {
      "needs_background": "light"
     },
     "output_type": "display_data"
    }
   ],
   "source": [
    "plt.plot(all_loss)"
   ]
  },
  {
   "cell_type": "markdown",
   "id": "bb428dc8",
   "metadata": {},
   "source": [
    "## Generator"
   ]
  },
  {
   "cell_type": "code",
   "execution_count": 20,
   "id": "63cced8f",
   "metadata": {},
   "outputs": [],
   "source": [
    "class Generator_ndim(nn.Module):\n",
    "    def __init__(self, n_dim, hidden):\n",
    "        super(Generator_ndim, self).__init__()\n",
    "\n",
    "        self.fc1 = nn.Linear(5, hidden)\n",
    "#         self.fc2 = nn.Linear(hidden, hidden)\n",
    "        self.fc3 = nn.Linear(hidden, n_dim)\n",
    "\n",
    "    def forward(self, x):\n",
    "        x = self.fc1(x)\n",
    "        x = F.relu(x)\n",
    "#         x = self.fc2(x)\n",
    "#         x = F.relu(x)\n",
    "        x = self.fc3(x)\n",
    "        x = F.sigmoid(x)\n",
    "        # note that here we are not adding any activation functions\n",
    "        # since we assume the linear output as the values can be negative as well\n",
    "        # in other words this activation function here is just an \"identity function\" f(x)=x\n",
    "        return x"
   ]
  },
  {
   "cell_type": "code",
   "execution_count": 21,
   "id": "49f1198a",
   "metadata": {},
   "outputs": [
    {
     "name": "stdout",
     "output_type": "stream",
     "text": [
      "tensor([0.5106, 0.5460, 0.6179, 0.4276, 0.5661, 0.4958],\n",
      "       grad_fn=<SigmoidBackward0>)\n"
     ]
    }
   ],
   "source": [
    "generator = Generator_ndim(6, 6)\n",
    "test_generator = generator(torch.rand(5))\n",
    "print(test_generator)"
   ]
  },
  {
   "cell_type": "code",
   "execution_count": 22,
   "id": "d5b27f18",
   "metadata": {},
   "outputs": [
    {
     "name": "stdout",
     "output_type": "stream",
     "text": [
      "tensor([0.5262, 0.5748, 0.5544, 0.4783], grad_fn=<SigmoidBackward0>)\n"
     ]
    }
   ],
   "source": [
    "generator = Generator_ndim(4, 6)\n",
    "test_generator = generator(torch.rand(5))\n",
    "print(test_generator)"
   ]
  },
  {
   "cell_type": "code",
   "execution_count": 23,
   "id": "4560d0b0",
   "metadata": {},
   "outputs": [
    {
     "name": "stdout",
     "output_type": "stream",
     "text": [
      "tensor([[0.7041, 0.3327, 0.1881, 0.1292, 0.5493],\n",
      "        [0.6638, 0.5910, 0.2452, 0.3487, 0.8017],\n",
      "        [0.1572, 0.9360, 0.8804, 0.5400, 0.2791],\n",
      "        [0.5715, 0.9213, 0.1137, 0.1300, 0.6250],\n",
      "        [0.8289, 0.6775, 0.4101, 0.8716, 0.0391],\n",
      "        [0.9690, 0.8243, 0.3636, 0.6152, 0.3009],\n",
      "        [0.2690, 0.9213, 0.9646, 0.1575, 0.1982],\n",
      "        [0.2792, 0.1300, 0.6132, 0.6974, 0.2858],\n",
      "        [0.9972, 0.2078, 0.1881, 0.0172, 0.3441],\n",
      "        [0.2528, 0.6310, 0.1638, 0.0132, 0.8173]])\n"
     ]
    }
   ],
   "source": [
    "def generate_latent_points(n, latent_dim=5):\n",
    "    # here we will assume that in the z-space \n",
    "    # or latent space we have 5 dimensional random vector \n",
    "    z = torch.rand(n*latent_dim)\n",
    "    return z.view((n,latent_dim))\n",
    "\n",
    "a = generate_latent_points(10)\n",
    "print(a)"
   ]
  },
  {
   "cell_type": "code",
   "execution_count": 24,
   "id": "89531afb",
   "metadata": {},
   "outputs": [],
   "source": [
    "def generate_fake_samples(generator, n):\n",
    "    z = generate_latent_points(n)\n",
    "    fake_data = generator(z)\n",
    "    return fake_data"
   ]
  },
  {
   "cell_type": "markdown",
   "id": "5de6cf60",
   "metadata": {},
   "source": [
    "## GAN training"
   ]
  },
  {
   "cell_type": "code",
   "execution_count": 46,
   "id": "1452727f",
   "metadata": {
    "scrolled": false
   },
   "outputs": [
    {
     "name": "stderr",
     "output_type": "stream",
     "text": [
      "100%|█████████████████████████████████| 100000/100000 [01:27<00:00, 1139.92it/s]\n"
     ]
    }
   ],
   "source": [
    "training_steps = 100_000    \n",
    "n_dim = 15\n",
    "hidden_g = 35\n",
    "hidden_d = 35\n",
    "\n",
    "# Models\n",
    "generator =     Generator_ndim(n_dim, hidden_g)\n",
    "discriminator = Discriminator_ndim(n_dim, hidden_d)\n",
    "\n",
    "# Optimizers\n",
    "generator_optimizer     = torch.optim.Adam(generator.parameters(),     lr=0.001)\n",
    "discriminator_optimizer = torch.optim.Adam(discriminator.parameters(), lr=0.001)\n",
    "\n",
    "# loss\n",
    "loss = nn.BCELoss()\n",
    "# loss = nn.MSELoss()\n",
    "\n",
    "discriminator_losses = []\n",
    "generator_losses = []\n",
    "\n",
    "N = 128\n",
    "\n",
    "for i in tqdm(range(training_steps)):\n",
    "    # zero the gradients on each iteration\n",
    "    generator_optimizer.zero_grad()\n",
    "#    if i%5000 ==0:\n",
    "#        print(f\"{i} \\n\")\n",
    "\n",
    "    # Create a fake data with a generator\n",
    "    fake_data = generate_fake_samples(generator, N)\n",
    "\n",
    "    # here we define the INVERSE labels for fake data\n",
    "    fake_data_label = torch.ones(N,1)\n",
    "\n",
    "    # Generate examples of real data\n",
    "    real_data, real_data_label = sample_real_data(df_real_tensor, N)\n",
    "    \n",
    "    # Train the generator\n",
    "    # We invert the labels here and don't train the discriminator because we want the generator\n",
    "    # to make things the discriminator classifies as true.\n",
    "    generator_discriminator_out = discriminator(fake_data)\n",
    "    generator_loss = loss(generator_discriminator_out, fake_data_label)\n",
    "    generator_loss.backward()\n",
    "    generator_optimizer.step()\n",
    "    generator_losses.append(generator_loss.item())\n",
    "\n",
    "\n",
    "    # Train the discriminator on the true/generated data\n",
    "    discriminator_optimizer.zero_grad()\n",
    "    true_discriminator_out = discriminator(real_data)\n",
    "    true_discriminator_loss = loss(true_discriminator_out, real_data_label)\n",
    "\n",
    "    # here a fake_data is passed with a gradient turned off\n",
    "    # see our post about <a href=\"https://datahacker.rs/004-computational-graph-and-autograd-with-pytorch/#Automatic-differentiation-module-in-PyTorch---Autograd\">AUTOGRAD</a>\n",
    "    generator_discriminator_out = discriminator(fake_data.detach())\n",
    "    generator_discriminator_loss = loss(generator_discriminator_out, torch.zeros(N,1))\n",
    "    discriminator_loss = (true_discriminator_loss + generator_discriminator_loss) / 2\n",
    "    discriminator_loss.backward()\n",
    "    discriminator_optimizer.step()\n",
    "    discriminator_losses.append(discriminator_loss.item())\n",
    "    \n",
    "#     mean_loss = (generator_loss.item() + discriminator_loss.item()) / 2\n",
    "    \n",
    "#     if (i%1000) == 0:\n",
    "#         print(i)\n",
    "# #         print(mean_loss)\n",
    "#         print(f'Generator loss: {generator_loss.item()}')\n",
    "#         print(f'Discriminator loss: {discriminator_loss.item()}')\n",
    "#         print('---')\n",
    "    \n",
    "    # early stopping\n",
    "    if discriminator_loss.item() < 0.3 and generator_loss.item() < 0.4 and i > 1_000 and i > 20_000:\n",
    "        print(f'Early stop!! Generator loss: {generator_loss.item()} / Discriminator loss: {discriminator_loss.item()}')\n",
    "        break"
   ]
  },
  {
   "cell_type": "code",
   "execution_count": 47,
   "id": "afe996ff",
   "metadata": {},
   "outputs": [
    {
     "data": {
      "text/plain": [
       "[<matplotlib.lines.Line2D at 0x7fa859e08dc0>]"
      ]
     },
     "execution_count": 47,
     "metadata": {},
     "output_type": "execute_result"
    },
    {
     "data": {
      "image/png": "[encoded data removed]",
      "text/plain": [
       "<Figure size 432x288 with 1 Axes>"
      ]
     },
     "metadata": {
      "needs_background": "light"
     },
     "output_type": "display_data"
    }
   ],
   "source": [
    "plt.plot(discriminator_losses)"
   ]
  },
  {
   "cell_type": "code",
   "execution_count": 48,
   "id": "5038520e",
   "metadata": {},
   "outputs": [
    {
     "data": {
      "text/plain": [
       "[<matplotlib.lines.Line2D at 0x7fa858b9a820>]"
      ]
     },
     "execution_count": 48,
     "metadata": {},
     "output_type": "execute_result"
    },
    {
     "data": {
      "image/png": "[encoded data removed]",
      "text/plain": [
       "<Figure size 432x288 with 1 Axes>"
      ]
     },
     "metadata": {
      "needs_background": "light"
     },
     "output_type": "display_data"
    }
   ],
   "source": [
    "plt.plot(generator_losses)"
   ]
  },
  {
   "cell_type": "markdown",
   "id": "7983e032",
   "metadata": {},
   "source": [
    "## Checking pairwise scatterplots"
   ]
  },
  {
   "cell_type": "code",
   "execution_count": 49,
   "id": "b1393808",
   "metadata": {
    "scrolled": true
   },
   "outputs": [
    {
     "data": {
      "text/html": [
       "<div>\n",
       "<style scoped>\n",
       "    .dataframe tbody tr th:only-of-type {\n",
       "        vertical-align: middle;\n",
       "    }\n",
       "\n",
       "    .dataframe tbody tr th {\n",
       "        vertical-align: top;\n",
       "    }\n",
       "\n",
       "    .dataframe thead th {\n",
       "        text-align: right;\n",
       "    }\n",
       "</style>\n",
       "<table border=\"1\" class=\"dataframe\">\n",
       "  <thead>\n",
       "    <tr style=\"text-align: right;\">\n",
       "      <th></th>\n",
       "      <th>P_Z0_before</th>\n",
       "      <th>P_Z0_after</th>\n",
       "      <th>P_Z1_before</th>\n",
       "      <th>P_Z1_after</th>\n",
       "      <th>P_WH_before</th>\n",
       "      <th>P_WH_after</th>\n",
       "      <th>T_Z0_before</th>\n",
       "      <th>T_Z0_after</th>\n",
       "      <th>T_Z1_before</th>\n",
       "      <th>T_Z1_after</th>\n",
       "      <th>P_bottom_before</th>\n",
       "      <th>P_bottom_after</th>\n",
       "      <th>T_WH_before</th>\n",
       "      <th>T_WH_after</th>\n",
       "      <th>failure</th>\n",
       "    </tr>\n",
       "  </thead>\n",
       "  <tbody>\n",
       "    <tr>\n",
       "      <th>0</th>\n",
       "      <td>0.880689</td>\n",
       "      <td>0.883310</td>\n",
       "      <td>0.880682</td>\n",
       "      <td>0.885696</td>\n",
       "      <td>0.911670</td>\n",
       "      <td>0.911528</td>\n",
       "      <td>0.000000</td>\n",
       "      <td>0.286272</td>\n",
       "      <td>0.300062</td>\n",
       "      <td>0.300035</td>\n",
       "      <td>0.681089</td>\n",
       "      <td>0.679748</td>\n",
       "      <td>0.900163</td>\n",
       "      <td>0.895531</td>\n",
       "      <td>0.0</td>\n",
       "    </tr>\n",
       "    <tr>\n",
       "      <th>1</th>\n",
       "      <td>0.881517</td>\n",
       "      <td>0.884084</td>\n",
       "      <td>0.881510</td>\n",
       "      <td>0.886472</td>\n",
       "      <td>0.912527</td>\n",
       "      <td>0.912327</td>\n",
       "      <td>0.286213</td>\n",
       "      <td>0.286228</td>\n",
       "      <td>0.299981</td>\n",
       "      <td>0.300048</td>\n",
       "      <td>0.681729</td>\n",
       "      <td>0.680344</td>\n",
       "      <td>0.900614</td>\n",
       "      <td>0.895979</td>\n",
       "      <td>0.0</td>\n",
       "    </tr>\n",
       "    <tr>\n",
       "      <th>2</th>\n",
       "      <td>0.880936</td>\n",
       "      <td>0.883653</td>\n",
       "      <td>0.880929</td>\n",
       "      <td>0.886040</td>\n",
       "      <td>0.911926</td>\n",
       "      <td>0.911882</td>\n",
       "      <td>0.286257</td>\n",
       "      <td>0.286242</td>\n",
       "      <td>0.300075</td>\n",
       "      <td>0.300075</td>\n",
       "      <td>0.681280</td>\n",
       "      <td>0.680012</td>\n",
       "      <td>0.900163</td>\n",
       "      <td>0.895979</td>\n",
       "      <td>0.0</td>\n",
       "    </tr>\n",
       "    <tr>\n",
       "      <th>3</th>\n",
       "      <td>0.963877</td>\n",
       "      <td>0.967061</td>\n",
       "      <td>0.963869</td>\n",
       "      <td>0.969673</td>\n",
       "      <td>0.997784</td>\n",
       "      <td>0.997954</td>\n",
       "      <td>0.273708</td>\n",
       "      <td>0.273602</td>\n",
       "      <td>0.285997</td>\n",
       "      <td>0.285829</td>\n",
       "      <td>0.745423</td>\n",
       "      <td>0.744198</td>\n",
       "      <td>0.216735</td>\n",
       "      <td>0.216961</td>\n",
       "      <td>0.0</td>\n",
       "    </tr>\n",
       "    <tr>\n",
       "      <th>4</th>\n",
       "      <td>0.882956</td>\n",
       "      <td>0.885347</td>\n",
       "      <td>0.882949</td>\n",
       "      <td>0.887738</td>\n",
       "      <td>0.914017</td>\n",
       "      <td>0.913630</td>\n",
       "      <td>0.286184</td>\n",
       "      <td>0.286199</td>\n",
       "      <td>0.299955</td>\n",
       "      <td>0.299968</td>\n",
       "      <td>0.682842</td>\n",
       "      <td>0.681316</td>\n",
       "      <td>0.901065</td>\n",
       "      <td>0.896428</td>\n",
       "      <td>0.0</td>\n",
       "    </tr>\n",
       "  </tbody>\n",
       "</table>\n",
       "</div>"
      ],
      "text/plain": [
       "   P_Z0_before  P_Z0_after  P_Z1_before  P_Z1_after  P_WH_before  P_WH_after  \\\n",
       "0     0.880689    0.883310     0.880682    0.885696     0.911670    0.911528   \n",
       "1     0.881517    0.884084     0.881510    0.886472     0.912527    0.912327   \n",
       "2     0.880936    0.883653     0.880929    0.886040     0.911926    0.911882   \n",
       "3     0.963877    0.967061     0.963869    0.969673     0.997784    0.997954   \n",
       "4     0.882956    0.885347     0.882949    0.887738     0.914017    0.913630   \n",
       "\n",
       "   T_Z0_before  T_Z0_after  T_Z1_before  T_Z1_after  P_bottom_before  \\\n",
       "0     0.000000    0.286272     0.300062    0.300035         0.681089   \n",
       "1     0.286213    0.286228     0.299981    0.300048         0.681729   \n",
       "2     0.286257    0.286242     0.300075    0.300075         0.681280   \n",
       "3     0.273708    0.273602     0.285997    0.285829         0.745423   \n",
       "4     0.286184    0.286199     0.299955    0.299968         0.682842   \n",
       "\n",
       "   P_bottom_after  T_WH_before  T_WH_after  failure  \n",
       "0        0.679748     0.900163    0.895531      0.0  \n",
       "1        0.680344     0.900614    0.895979      0.0  \n",
       "2        0.680012     0.900163    0.895979      0.0  \n",
       "3        0.744198     0.216735    0.216961      0.0  \n",
       "4        0.681316     0.901065    0.896428      0.0  "
      ]
     },
     "execution_count": 49,
     "metadata": {},
     "output_type": "execute_result"
    }
   ],
   "source": [
    "df_gan_real.head()"
   ]
  },
  {
   "cell_type": "code",
   "execution_count": 50,
   "id": "6972e3b9",
   "metadata": {},
   "outputs": [
    {
     "data": {
      "text/plain": [
       "tensor([[0.9424, 0.9814, 0.9662, 0.9623, 0.9656, 0.9854, 0.3229, 0.3011, 0.3363,\n",
       "         0.3017, 0.7345, 0.6864, 0.8641, 0.8091, 0.0000],\n",
       "        [0.9365, 0.9806, 0.9609, 0.9584, 0.9718, 0.9885, 0.3441, 0.2976, 0.3299,\n",
       "         0.3058, 0.7405, 0.6802, 0.7778, 0.7421, 0.0000],\n",
       "        [0.9329, 0.9767, 0.9514, 0.9518, 0.9689, 0.9874, 0.3418, 0.2974, 0.3284,\n",
       "         0.3060, 0.7364, 0.6769, 0.7621, 0.7342, 0.0000]],\n",
       "       grad_fn=<SliceBackward0>)"
      ]
     },
     "execution_count": 50,
     "metadata": {},
     "output_type": "execute_result"
    }
   ],
   "source": [
    "fake_data[:3, :]"
   ]
  },
  {
   "cell_type": "code",
   "execution_count": 56,
   "id": "96aed556",
   "metadata": {
    "scrolled": false
   },
   "outputs": [
    {
     "data": {
      "image/png": "[encoded data removed]",
      "text/plain": [
       "<Figure size 432x288 with 1 Axes>"
      ]
     },
     "metadata": {
      "needs_background": "light"
     },
     "output_type": "display_data"
    },
    {
     "data": {
      "image/png": "[encoded data removed]",
      "text/plain": [
       "<Figure size 432x288 with 1 Axes>"
      ]
     },
     "metadata": {
      "needs_background": "light"
     },
     "output_type": "display_data"
    },
    {
     "data": {
      "image/png": "[encoded data removed]",
      "text/plain": [
       "<Figure size 432x288 with 1 Axes>"
      ]
     },
     "metadata": {
      "needs_background": "light"
     },
     "output_type": "display_data"
    },
    {
     "data": {
      "image/png": "[encoded data removed]",
      "text/plain": [
       "<Figure size 432x288 with 1 Axes>"
      ]
     },
     "metadata": {
      "needs_background": "light"
     },
     "output_type": "display_data"
    },
    {
     "data": {
      "image/png": "[encoded data removed]",
      "text/plain": [
       "<Figure size 432x288 with 1 Axes>"
      ]
     },
     "metadata": {
      "needs_background": "light"
     },
     "output_type": "display_data"
    },
    {
     "data": {
      "image/png": "[encoded data removed]",
      "text/plain": [
       "<Figure size 432x288 with 1 Axes>"
      ]
     },
     "metadata": {
      "needs_background": "light"
     },
     "output_type": "display_data"
    },
    {
     "data": {
      "image/png": "[encoded data removed]",
      "text/plain": [
       "<Figure size 432x288 with 1 Axes>"
      ]
     },
     "metadata": {
      "needs_background": "light"
     },
     "output_type": "display_data"
    },
    {
     "data": {
      "image/png": "[encoded data removed]",
      "text/plain": [
       "<Figure size 432x288 with 1 Axes>"
      ]
     },
     "metadata": {
      "needs_background": "light"
     },
     "output_type": "display_data"
    },
    {
     "data": {
      "image/png": "[encoded data removed]",
      "text/plain": [
       "<Figure size 432x288 with 1 Axes>"
      ]
     },
     "metadata": {
      "needs_background": "light"
     },
     "output_type": "display_data"
    },
    {
     "data": {
      "image/png": "[encoded data removed]",
      "text/plain": [
       "<Figure size 432x288 with 1 Axes>"
      ]
     },
     "metadata": {
      "needs_background": "light"
     },
     "output_type": "display_data"
    },
    {
     "data": {
      "image/png": "[encoded data removed]",
      "text/plain": [
       "<Figure size 432x288 with 1 Axes>"
      ]
     },
     "metadata": {
      "needs_background": "light"
     },
     "output_type": "display_data"
    },
    {
     "data": {
      "image/png": "[encoded data removed]",
      "text/plain": [
       "<Figure size 432x288 with 1 Axes>"
      ]
     },
     "metadata": {
      "needs_background": "light"
     },
     "output_type": "display_data"
    },
    {
     "data": {
      "image/png": "[encoded data removed]",
      "text/plain": [
       "<Figure size 432x288 with 1 Axes>"
      ]
     },
     "metadata": {
      "needs_background": "light"
     },
     "output_type": "display_data"
    },
    {
     "data": {
      "image/png": "[encoded data removed]",
      "text/plain": [
       "<Figure size 432x288 with 1 Axes>"
      ]
     },
     "metadata": {
      "needs_background": "light"
     },
     "output_type": "display_data"
    },
    {
     "data": {
      "image/png": "[encoded data removed]",
      "text/plain": [
       "<Figure size 432x288 with 1 Axes>"
      ]
     },
     "metadata": {
      "needs_background": "light"
     },
     "output_type": "display_data"
    }
   ],
   "source": [
    "## Checking for P_Z0_before variable (column 0)\n",
    "for k in range(n_dim):\n",
    "    plt.scatter(real_data[:,0].detach().numpy(), real_data[:,k].detach().numpy())\n",
    "    plt.scatter(fake_data[:,0].detach().numpy(), fake_data[:,k].detach().numpy())\n",
    "    plt.title(f'dim {k} versus 0')\n",
    "    plt.show()"
   ]
  },
  {
   "cell_type": "code",
   "execution_count": 59,
   "id": "1bbdc98b",
   "metadata": {
    "scrolled": false
   },
   "outputs": [
    {
     "data": {
      "image/png": "[encoded data removed]",
      "text/plain": [
       "<Figure size 432x288 with 1 Axes>"
      ]
     },
     "metadata": {
      "needs_background": "light"
     },
     "output_type": "display_data"
    },
    {
     "data": {
      "image/png": "[encoded data removed]",
      "text/plain": [
       "<Figure size 432x288 with 1 Axes>"
      ]
     },
     "metadata": {
      "needs_background": "light"
     },
     "output_type": "display_data"
    },
    {
     "data": {
      "image/png": "[encoded data removed]",
      "text/plain": [
       "<Figure size 432x288 with 1 Axes>"
      ]
     },
     "metadata": {
      "needs_background": "light"
     },
     "output_type": "display_data"
    },
    {
     "data": {
      "image/png": "[encoded data removed]",
      "text/plain": [
       "<Figure size 432x288 with 1 Axes>"
      ]
     },
     "metadata": {
      "needs_background": "light"
     },
     "output_type": "display_data"
    },
    {
     "data": {
      "image/png": "[encoded data removed]",
      "text/plain": [
       "<Figure size 432x288 with 1 Axes>"
      ]
     },
     "metadata": {
      "needs_background": "light"
     },
     "output_type": "display_data"
    },
    {
     "data": {
      "image/png": "[encoded data removed]",
      "text/plain": [
       "<Figure size 432x288 with 1 Axes>"
      ]
     },
     "metadata": {
      "needs_background": "light"
     },
     "output_type": "display_data"
    },
    {
     "data": {
      "image/png": "[encoded data removed]",
      "text/plain": [
       "<Figure size 432x288 with 1 Axes>"
      ]
     },
     "metadata": {
      "needs_background": "light"
     },
     "output_type": "display_data"
    },
    {
     "data": {
      "image/png": "[encoded data removed]",
      "text/plain": [
       "<Figure size 432x288 with 1 Axes>"
      ]
     },
     "metadata": {
      "needs_background": "light"
     },
     "output_type": "display_data"
    },
    {
     "data": {
      "image/png": "[encoded data removed]",
      "text/plain": [
       "<Figure size 432x288 with 1 Axes>"
      ]
     },
     "metadata": {
      "needs_background": "light"
     },
     "output_type": "display_data"
    },
    {
     "data": {
      "image/png": "[encoded data removed]",
      "text/plain": [
       "<Figure size 432x288 with 1 Axes>"
      ]
     },
     "metadata": {
      "needs_background": "light"
     },
     "output_type": "display_data"
    },
    {
     "data": {
      "image/png": "[encoded data removed]",
      "text/plain": [
       "<Figure size 432x288 with 1 Axes>"
      ]
     },
     "metadata": {
      "needs_background": "light"
     },
     "output_type": "display_data"
    },
    {
     "data": {
      "image/png": "[encoded data removed]",
      "text/plain": [
       "<Figure size 432x288 with 1 Axes>"
      ]
     },
     "metadata": {
      "needs_background": "light"
     },
     "output_type": "display_data"
    },
    {
     "data": {
      "image/png": "[encoded data removed]",
      "text/plain": [
       "<Figure size 432x288 with 1 Axes>"
      ]
     },
     "metadata": {
      "needs_background": "light"
     },
     "output_type": "display_data"
    },
    {
     "data": {
      "image/png": "[encoded data removed]",
      "text/plain": [
       "<Figure size 432x288 with 1 Axes>"
      ]
     },
     "metadata": {
      "needs_background": "light"
     },
     "output_type": "display_data"
    },
    {
     "data": {
      "image/png": "[encoded data removed]",
      "text/plain": [
       "<Figure size 432x288 with 1 Axes>"
      ]
     },
     "metadata": {
      "needs_background": "light"
     },
     "output_type": "display_data"
    }
   ],
   "source": [
    "## Checking for T_Z0_before variable (column 6)\n",
    "for k in range(n_dim):\n",
    "    plt.scatter(real_data[:,6].detach().numpy(), real_data[:,k].detach().numpy())\n",
    "    plt.scatter(fake_data[:,6].detach().numpy(), fake_data[:,k].detach().numpy())\n",
    "    plt.title(f'dim {k} versus 6')\n",
    "    plt.show()"
   ]
  },
  {
   "cell_type": "markdown",
   "id": "24b09048",
   "metadata": {},
   "source": [
    "## Creating a synthetic dataset generated by GAN for comparison"
   ]
  },
  {
   "cell_type": "code",
   "execution_count": 60,
   "id": "c9c54660",
   "metadata": {},
   "outputs": [
    {
     "data": {
      "text/plain": [
       "Generator_ndim(\n",
       "  (fc1): Linear(in_features=5, out_features=35, bias=True)\n",
       "  (fc3): Linear(in_features=35, out_features=15, bias=True)\n",
       ")"
      ]
     },
     "execution_count": 60,
     "metadata": {},
     "output_type": "execute_result"
    }
   ],
   "source": [
    "generator"
   ]
  },
  {
   "cell_type": "code",
   "execution_count": 61,
   "id": "40daaf50",
   "metadata": {},
   "outputs": [],
   "source": [
    "synthetic_data = generate_fake_samples(generator, 10_000)"
   ]
  },
  {
   "cell_type": "code",
   "execution_count": 62,
   "id": "0e01fa04",
   "metadata": {},
   "outputs": [
    {
     "data": {
      "text/plain": [
       "torch.Size([10000, 15])"
      ]
     },
     "execution_count": 62,
     "metadata": {},
     "output_type": "execute_result"
    }
   ],
   "source": [
    "synthetic_data.shape"
   ]
  },
  {
   "cell_type": "code",
   "execution_count": 63,
   "id": "77ae505d",
   "metadata": {},
   "outputs": [
    {
     "data": {
      "text/plain": [
       "tensor([[9.1771e-01, 9.2225e-01, 9.5493e-01,  ..., 8.4287e-01, 8.2477e-01,\n",
       "         1.0000e+00],\n",
       "        [9.0051e-01, 9.0963e-01, 9.2970e-01,  ..., 8.4169e-01, 8.1440e-01,\n",
       "         1.0000e+00],\n",
       "        [9.3105e-01, 9.7710e-01, 9.5298e-01,  ..., 7.4067e-01, 7.1943e-01,\n",
       "         0.0000e+00],\n",
       "        ...,\n",
       "        [9.2100e-01, 9.1213e-01, 9.5211e-01,  ..., 8.5128e-01, 8.0116e-01,\n",
       "         1.0000e+00],\n",
       "        [9.9194e-01, 9.7334e-01, 9.9957e-01,  ..., 9.0162e-01, 8.5549e-01,\n",
       "         1.0000e+00],\n",
       "        [8.3430e-01, 8.7915e-01, 8.4511e-01,  ..., 6.3025e-01, 7.1361e-01,\n",
       "         3.1096e-17]], grad_fn=<SigmoidBackward0>)"
      ]
     },
     "execution_count": 63,
     "metadata": {},
     "output_type": "execute_result"
    }
   ],
   "source": [
    "synthetic_data"
   ]
  },
  {
   "cell_type": "code",
   "execution_count": 74,
   "id": "0acb4d31",
   "metadata": {},
   "outputs": [
    {
     "data": {
      "text/plain": [
       "array([[9.1771036e-01, 9.2225242e-01, 9.5492548e-01, ..., 8.4287119e-01,\n",
       "        8.2476687e-01, 1.0000000e+00],\n",
       "       [9.0050620e-01, 9.0962648e-01, 9.2969930e-01, ..., 8.4169376e-01,\n",
       "        8.1440037e-01, 1.0000000e+00],\n",
       "       [9.3104547e-01, 9.7710425e-01, 9.5297962e-01, ..., 7.4066859e-01,\n",
       "        7.1943426e-01, 0.0000000e+00],\n",
       "       ...,\n",
       "       [9.2099750e-01, 9.1213262e-01, 9.5211238e-01, ..., 8.5128367e-01,\n",
       "        8.0115980e-01, 1.0000000e+00],\n",
       "       [9.9193984e-01, 9.7334063e-01, 9.9957019e-01, ..., 9.0162033e-01,\n",
       "        8.5549068e-01, 1.0000000e+00],\n",
       "       [8.3429652e-01, 8.7914509e-01, 8.4510571e-01, ..., 6.3025355e-01,\n",
       "        7.1361339e-01, 3.1096346e-17]], dtype=float32)"
      ]
     },
     "execution_count": 74,
     "metadata": {},
     "output_type": "execute_result"
    }
   ],
   "source": [
    "synth_array = synthetic_data.detach().numpy()\n",
    "synth_array"
   ]
  },
  {
   "cell_type": "code",
   "execution_count": 73,
   "id": "30346989",
   "metadata": {},
   "outputs": [
    {
     "data": {
      "text/plain": [
       "{'P_Z0_before': MinMaxScaler(),\n",
       " 'P_Z0_after': MinMaxScaler(),\n",
       " 'P_Z1_before': MinMaxScaler(),\n",
       " 'P_Z1_after': MinMaxScaler(),\n",
       " 'P_WH_before': MinMaxScaler(),\n",
       " 'P_WH_after': MinMaxScaler(),\n",
       " 'T_Z0_before': MinMaxScaler(),\n",
       " 'T_Z0_after': MinMaxScaler(),\n",
       " 'T_Z1_before': MinMaxScaler(),\n",
       " 'T_Z1_after': MinMaxScaler(),\n",
       " 'P_bottom_before': MinMaxScaler(),\n",
       " 'P_bottom_after': MinMaxScaler(),\n",
       " 'T_WH_before': MinMaxScaler(),\n",
       " 'T_WH_after': MinMaxScaler(),\n",
       " 'failure': MinMaxScaler()}"
      ]
     },
     "execution_count": 73,
     "metadata": {},
     "output_type": "execute_result"
    }
   ],
   "source": [
    "encoders = joblib.load('../inputs/pre-processed/dic_encoders_gan.pkl')\n",
    "encoders"
   ]
  },
  {
   "cell_type": "code",
   "execution_count": 91,
   "id": "9978d953",
   "metadata": {},
   "outputs": [],
   "source": [
    "dic_gan_generated = {}\n",
    "\n",
    "for k, col_enc in enumerate(encoders.items()):\n",
    "    dic_gan_generated[col_enc[0]] = col_enc[1].inverse_transform(synth_array[:, k].reshape(-1, 1)).squeeze()"
   ]
  },
  {
   "cell_type": "code",
   "execution_count": 92,
   "id": "142855c6",
   "metadata": {
    "scrolled": true
   },
   "outputs": [
    {
     "data": {
      "text/plain": [
       "{'P_Z0_before': array([809.62317, 798.19464, 818.4815 , ..., 811.8068 , 858.93286,\n",
       "        754.21246], dtype=float32),\n",
       " 'P_Z0_after': array([810.7316 , 802.37054, 847.05554, ..., 804.03015, 844.5632 ,\n",
       "        782.18524], dtype=float32),\n",
       " 'P_Z1_before': array([774.3499 , 757.5923 , 773.0573 , ..., 772.4812 , 804.0071 ,\n",
       "        701.39746], dtype=float32),\n",
       " 'P_Z1_after': array([743.2348 , 735.5474 , 769.04803, ..., 743.30994, 789.30084,\n",
       "        706.53723], dtype=float32),\n",
       " 'P_WH_before': array([254.9936 , 252.06357, 623.0879 , ..., 263.01028, 287.55106,\n",
       "        603.9366 ], dtype=float32),\n",
       " 'P_WH_after': array([235.41829, 236.     , 633.99585, ..., 238.61511, 236.24915,\n",
       "        610.0433 ], dtype=float32),\n",
       " 'T_Z0_before': array([ 87.14267,  85.65962, 106.32862, ...,  85.60032,  89.57726,\n",
       "         92.19143], dtype=float32),\n",
       " 'T_Z0_after': array([83.61783 , 83.670715, 91.06964 , ..., 82.7603  , 83.86959 ,\n",
       "        88.57717 ], dtype=float32),\n",
       " 'T_Z1_before': array([84.81369 , 85.46272 , 96.541176, ..., 83.99139 , 77.85068 ,\n",
       "        84.31374 ], dtype=float32),\n",
       " 'T_Z1_after': array([83.92776 , 83.123856, 90.21795 , ..., 83.100784, 87.74073 ,\n",
       "        76.34474 ], dtype=float32),\n",
       " 'P_bottom_before': array([804.413  , 798.2496 , 633.2044 , ..., 802.32825, 843.7184 ,\n",
       "        580.2568 ], dtype=float32),\n",
       " 'P_bottom_after': array([784.19104, 778.74585, 581.71906, ..., 773.42096, 808.2519 ,\n",
       "        547.49786], dtype=float32),\n",
       " 'T_WH_before': array([69.659775, 69.535324, 58.85752 , ..., 70.54893 , 75.86923 ,\n",
       "        47.187252], dtype=float32),\n",
       " 'T_WH_after': array([68.14456 , 67.04249 , 56.946575, ..., 65.63487 , 71.410835,\n",
       "        56.327755], dtype=float32),\n",
       " 'failure': array([1.0000000e+00, 1.0000000e+00, 0.0000000e+00, ..., 1.0000000e+00,\n",
       "        1.0000000e+00, 3.1096346e-17], dtype=float32)}"
      ]
     },
     "execution_count": 92,
     "metadata": {},
     "output_type": "execute_result"
    }
   ],
   "source": [
    "dic_gan_generated"
   ]
  },
  {
   "cell_type": "code",
   "execution_count": 93,
   "id": "c8004ba5",
   "metadata": {},
   "outputs": [
    {
     "data": {
      "text/html": [
       "<div>\n",
       "<style scoped>\n",
       "    .dataframe tbody tr th:only-of-type {\n",
       "        vertical-align: middle;\n",
       "    }\n",
       "\n",
       "    .dataframe tbody tr th {\n",
       "        vertical-align: top;\n",
       "    }\n",
       "\n",
       "    .dataframe thead th {\n",
       "        text-align: right;\n",
       "    }\n",
       "</style>\n",
       "<table border=\"1\" class=\"dataframe\">\n",
       "  <thead>\n",
       "    <tr style=\"text-align: right;\">\n",
       "      <th></th>\n",
       "      <th>P_Z0_before</th>\n",
       "      <th>P_Z0_after</th>\n",
       "      <th>P_Z1_before</th>\n",
       "      <th>P_Z1_after</th>\n",
       "      <th>P_WH_before</th>\n",
       "      <th>P_WH_after</th>\n",
       "      <th>T_Z0_before</th>\n",
       "      <th>T_Z0_after</th>\n",
       "      <th>T_Z1_before</th>\n",
       "      <th>T_Z1_after</th>\n",
       "      <th>P_bottom_before</th>\n",
       "      <th>P_bottom_after</th>\n",
       "      <th>T_WH_before</th>\n",
       "      <th>T_WH_after</th>\n",
       "      <th>failure</th>\n",
       "    </tr>\n",
       "  </thead>\n",
       "  <tbody>\n",
       "    <tr>\n",
       "      <th>0</th>\n",
       "      <td>809.623169</td>\n",
       "      <td>810.731628</td>\n",
       "      <td>774.349915</td>\n",
       "      <td>743.234802</td>\n",
       "      <td>254.993607</td>\n",
       "      <td>235.418289</td>\n",
       "      <td>87.142670</td>\n",
       "      <td>83.617828</td>\n",
       "      <td>84.813690</td>\n",
       "      <td>83.927757</td>\n",
       "      <td>804.413025</td>\n",
       "      <td>784.191040</td>\n",
       "      <td>69.659775</td>\n",
       "      <td>68.144562</td>\n",
       "      <td>1.000000e+00</td>\n",
       "    </tr>\n",
       "    <tr>\n",
       "      <th>1</th>\n",
       "      <td>798.194641</td>\n",
       "      <td>802.370544</td>\n",
       "      <td>757.592285</td>\n",
       "      <td>735.547424</td>\n",
       "      <td>252.063568</td>\n",
       "      <td>236.000000</td>\n",
       "      <td>85.659622</td>\n",
       "      <td>83.670715</td>\n",
       "      <td>85.462723</td>\n",
       "      <td>83.123856</td>\n",
       "      <td>798.249573</td>\n",
       "      <td>778.745850</td>\n",
       "      <td>69.535324</td>\n",
       "      <td>67.042488</td>\n",
       "      <td>1.000000e+00</td>\n",
       "    </tr>\n",
       "    <tr>\n",
       "      <th>2</th>\n",
       "      <td>818.481506</td>\n",
       "      <td>847.055542</td>\n",
       "      <td>773.057312</td>\n",
       "      <td>769.048035</td>\n",
       "      <td>623.087891</td>\n",
       "      <td>633.995850</td>\n",
       "      <td>106.328621</td>\n",
       "      <td>91.069641</td>\n",
       "      <td>96.541176</td>\n",
       "      <td>90.217949</td>\n",
       "      <td>633.204407</td>\n",
       "      <td>581.719055</td>\n",
       "      <td>58.857521</td>\n",
       "      <td>56.946575</td>\n",
       "      <td>0.000000e+00</td>\n",
       "    </tr>\n",
       "    <tr>\n",
       "      <th>3</th>\n",
       "      <td>732.812927</td>\n",
       "      <td>744.685852</td>\n",
       "      <td>660.502197</td>\n",
       "      <td>681.042969</td>\n",
       "      <td>406.143585</td>\n",
       "      <td>391.753632</td>\n",
       "      <td>83.088882</td>\n",
       "      <td>84.033012</td>\n",
       "      <td>85.716240</td>\n",
       "      <td>77.493233</td>\n",
       "      <td>692.733215</td>\n",
       "      <td>699.941528</td>\n",
       "      <td>60.912800</td>\n",
       "      <td>62.955395</td>\n",
       "      <td>9.999963e-01</td>\n",
       "    </tr>\n",
       "    <tr>\n",
       "      <th>4</th>\n",
       "      <td>853.963745</td>\n",
       "      <td>837.576050</td>\n",
       "      <td>803.128845</td>\n",
       "      <td>781.672302</td>\n",
       "      <td>268.001526</td>\n",
       "      <td>229.451889</td>\n",
       "      <td>87.378784</td>\n",
       "      <td>83.756706</td>\n",
       "      <td>80.675461</td>\n",
       "      <td>86.298561</td>\n",
       "      <td>836.298523</td>\n",
       "      <td>797.531006</td>\n",
       "      <td>75.101418</td>\n",
       "      <td>69.453583</td>\n",
       "      <td>1.000000e+00</td>\n",
       "    </tr>\n",
       "    <tr>\n",
       "      <th>...</th>\n",
       "      <td>...</td>\n",
       "      <td>...</td>\n",
       "      <td>...</td>\n",
       "      <td>...</td>\n",
       "      <td>...</td>\n",
       "      <td>...</td>\n",
       "      <td>...</td>\n",
       "      <td>...</td>\n",
       "      <td>...</td>\n",
       "      <td>...</td>\n",
       "      <td>...</td>\n",
       "      <td>...</td>\n",
       "      <td>...</td>\n",
       "      <td>...</td>\n",
       "      <td>...</td>\n",
       "    </tr>\n",
       "    <tr>\n",
       "      <th>9995</th>\n",
       "      <td>844.962524</td>\n",
       "      <td>829.377319</td>\n",
       "      <td>800.394714</td>\n",
       "      <td>772.007629</td>\n",
       "      <td>261.395172</td>\n",
       "      <td>230.846939</td>\n",
       "      <td>86.867081</td>\n",
       "      <td>83.894569</td>\n",
       "      <td>82.335457</td>\n",
       "      <td>85.304985</td>\n",
       "      <td>827.716858</td>\n",
       "      <td>793.296570</td>\n",
       "      <td>73.391495</td>\n",
       "      <td>69.020332</td>\n",
       "      <td>1.000000e+00</td>\n",
       "    </tr>\n",
       "    <tr>\n",
       "      <th>9996</th>\n",
       "      <td>859.043335</td>\n",
       "      <td>845.364746</td>\n",
       "      <td>804.045593</td>\n",
       "      <td>790.442383</td>\n",
       "      <td>301.439362</td>\n",
       "      <td>245.954224</td>\n",
       "      <td>91.225800</td>\n",
       "      <td>83.944077</td>\n",
       "      <td>76.727547</td>\n",
       "      <td>88.188782</td>\n",
       "      <td>844.699036</td>\n",
       "      <td>812.933044</td>\n",
       "      <td>75.237419</td>\n",
       "      <td>72.528130</td>\n",
       "      <td>1.000000e+00</td>\n",
       "    </tr>\n",
       "    <tr>\n",
       "      <th>9997</th>\n",
       "      <td>811.806824</td>\n",
       "      <td>804.030151</td>\n",
       "      <td>772.481201</td>\n",
       "      <td>743.309937</td>\n",
       "      <td>263.010284</td>\n",
       "      <td>238.615112</td>\n",
       "      <td>85.600319</td>\n",
       "      <td>82.760300</td>\n",
       "      <td>83.991386</td>\n",
       "      <td>83.100784</td>\n",
       "      <td>802.328247</td>\n",
       "      <td>773.420959</td>\n",
       "      <td>70.548927</td>\n",
       "      <td>65.634872</td>\n",
       "      <td>1.000000e+00</td>\n",
       "    </tr>\n",
       "    <tr>\n",
       "      <th>9998</th>\n",
       "      <td>858.932861</td>\n",
       "      <td>844.563171</td>\n",
       "      <td>804.007080</td>\n",
       "      <td>789.300842</td>\n",
       "      <td>287.551056</td>\n",
       "      <td>236.249146</td>\n",
       "      <td>89.577263</td>\n",
       "      <td>83.869591</td>\n",
       "      <td>77.850677</td>\n",
       "      <td>87.740730</td>\n",
       "      <td>843.718384</td>\n",
       "      <td>808.251892</td>\n",
       "      <td>75.869232</td>\n",
       "      <td>71.410835</td>\n",
       "      <td>1.000000e+00</td>\n",
       "    </tr>\n",
       "    <tr>\n",
       "      <th>9999</th>\n",
       "      <td>754.212463</td>\n",
       "      <td>782.185242</td>\n",
       "      <td>701.397461</td>\n",
       "      <td>706.537231</td>\n",
       "      <td>603.936584</td>\n",
       "      <td>610.043274</td>\n",
       "      <td>92.191429</td>\n",
       "      <td>88.577171</td>\n",
       "      <td>84.313744</td>\n",
       "      <td>76.344742</td>\n",
       "      <td>580.256775</td>\n",
       "      <td>547.497864</td>\n",
       "      <td>47.187252</td>\n",
       "      <td>56.327755</td>\n",
       "      <td>3.109635e-17</td>\n",
       "    </tr>\n",
       "  </tbody>\n",
       "</table>\n",
       "<p>10000 rows × 15 columns</p>\n",
       "</div>"
      ],
      "text/plain": [
       "      P_Z0_before  P_Z0_after  P_Z1_before  P_Z1_after  P_WH_before  \\\n",
       "0      809.623169  810.731628   774.349915  743.234802   254.993607   \n",
       "1      798.194641  802.370544   757.592285  735.547424   252.063568   \n",
       "2      818.481506  847.055542   773.057312  769.048035   623.087891   \n",
       "3      732.812927  744.685852   660.502197  681.042969   406.143585   \n",
       "4      853.963745  837.576050   803.128845  781.672302   268.001526   \n",
       "...           ...         ...          ...         ...          ...   \n",
       "9995   844.962524  829.377319   800.394714  772.007629   261.395172   \n",
       "9996   859.043335  845.364746   804.045593  790.442383   301.439362   \n",
       "9997   811.806824  804.030151   772.481201  743.309937   263.010284   \n",
       "9998   858.932861  844.563171   804.007080  789.300842   287.551056   \n",
       "9999   754.212463  782.185242   701.397461  706.537231   603.936584   \n",
       "\n",
       "      P_WH_after  T_Z0_before  T_Z0_after  T_Z1_before  T_Z1_after  \\\n",
       "0     235.418289    87.142670   83.617828    84.813690   83.927757   \n",
       "1     236.000000    85.659622   83.670715    85.462723   83.123856   \n",
       "2     633.995850   106.328621   91.069641    96.541176   90.217949   \n",
       "3     391.753632    83.088882   84.033012    85.716240   77.493233   \n",
       "4     229.451889    87.378784   83.756706    80.675461   86.298561   \n",
       "...          ...          ...         ...          ...         ...   \n",
       "9995  230.846939    86.867081   83.894569    82.335457   85.304985   \n",
       "9996  245.954224    91.225800   83.944077    76.727547   88.188782   \n",
       "9997  238.615112    85.600319   82.760300    83.991386   83.100784   \n",
       "9998  236.249146    89.577263   83.869591    77.850677   87.740730   \n",
       "9999  610.043274    92.191429   88.577171    84.313744   76.344742   \n",
       "\n",
       "      P_bottom_before  P_bottom_after  T_WH_before  T_WH_after       failure  \n",
       "0          804.413025      784.191040    69.659775   68.144562  1.000000e+00  \n",
       "1          798.249573      778.745850    69.535324   67.042488  1.000000e+00  \n",
       "2          633.204407      581.719055    58.857521   56.946575  0.000000e+00  \n",
       "3          692.733215      699.941528    60.912800   62.955395  9.999963e-01  \n",
       "4          836.298523      797.531006    75.101418   69.453583  1.000000e+00  \n",
       "...               ...             ...          ...         ...           ...  \n",
       "9995       827.716858      793.296570    73.391495   69.020332  1.000000e+00  \n",
       "9996       844.699036      812.933044    75.237419   72.528130  1.000000e+00  \n",
       "9997       802.328247      773.420959    70.548927   65.634872  1.000000e+00  \n",
       "9998       843.718384      808.251892    75.869232   71.410835  1.000000e+00  \n",
       "9999       580.256775      547.497864    47.187252   56.327755  3.109635e-17  \n",
       "\n",
       "[10000 rows x 15 columns]"
      ]
     },
     "execution_count": 93,
     "metadata": {},
     "output_type": "execute_result"
    }
   ],
   "source": [
    "df_gan_generated = pd.DataFrame(dic_gan_generated)\n",
    "df_gan_generated"
   ]
  },
  {
   "cell_type": "code",
   "execution_count": 94,
   "id": "ad1690b6",
   "metadata": {},
   "outputs": [],
   "source": [
    "df_gan_generated['failure'] = df_gan_generated['failure'].round(0)"
   ]
  },
  {
   "cell_type": "code",
   "execution_count": 95,
   "id": "e4430738",
   "metadata": {},
   "outputs": [
    {
     "data": {
      "text/plain": [
       "1.0    5475\n",
       "0.0    4525\n",
       "Name: failure, dtype: int64"
      ]
     },
     "execution_count": 95,
     "metadata": {},
     "output_type": "execute_result"
    }
   ],
   "source": [
    "df_gan_generated['failure'].value_counts()"
   ]
  },
  {
   "cell_type": "code",
   "execution_count": 96,
   "id": "9a6bc4fe",
   "metadata": {},
   "outputs": [],
   "source": [
    "df_gan_generated.to_csv('../outputs/gan_synthetic_failure_data.csv')"
   ]
  },
  {
   "cell_type": "code",
   "execution_count": 97,
   "id": "51bbffed",
   "metadata": {},
   "outputs": [
    {
     "data": {
      "text/plain": [
       "['../inputs/df_gan_generated.pkl']"
      ]
     },
     "execution_count": 97,
     "metadata": {},
     "output_type": "execute_result"
    }
   ],
   "source": [
    "joblib.dump(df_gan_generated, '../inputs/df_gan_generated.pkl')"
   ]
  },
  {
   "cell_type": "code",
   "execution_count": null,
   "id": "515a1967",
   "metadata": {},
   "outputs": [],
   "source": []
  }
 ],
 "metadata": {
  "kernelspec": {
   "display_name": "Python 3 (ipykernel)",
   "language": "python",
   "name": "python3"
  },
  "language_info": {
   "codemirror_mode": {
    "name": "ipython",
    "version": 3
   },
   "file_extension": ".py",
   "mimetype": "text/x-python",
   "name": "python",
   "nbconvert_exporter": "python",
   "pygments_lexer": "ipython3",
   "version": "3.9.12"
  }
 },
 "nbformat": 4,
 "nbformat_minor": 5
}
