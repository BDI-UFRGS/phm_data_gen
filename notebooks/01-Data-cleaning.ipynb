{
 "cells": [
  {
   "cell_type": "markdown",
   "id": "224e2622",
   "metadata": {},
   "source": [
    "# Data cleaning"
   ]
  },
  {
   "cell_type": "code",
   "execution_count": 1,
   "id": "7f41a50a",
   "metadata": {},
   "outputs": [],
   "source": [
    "import pandas as pd\n",
    "import numpy as np\n",
    "import missingno as msno\n",
    "import joblib"
   ]
  },
  {
   "cell_type": "code",
   "execution_count": 2,
   "id": "4bbd1ddb",
   "metadata": {},
   "outputs": [],
   "source": [
    "df = joblib.load('../inputs/pre-processed/all_data.pkl')"
   ]
  },
  {
   "cell_type": "code",
   "execution_count": 3,
   "id": "31141792",
   "metadata": {},
   "outputs": [
    {
     "name": "stdout",
     "output_type": "stream",
     "text": [
      "<class 'pandas.core.frame.DataFrame'>\n",
      "Int64Index: 569003 entries, 0 to 23459\n",
      "Data columns (total 10 columns):\n",
      " #   Column               Non-Null Count   Dtype         \n",
      "---  ------               --------------   -----         \n",
      " 0   timestamp            569003 non-null  datetime64[ns]\n",
      " 1   FPSO_choke           569003 non-null  object        \n",
      " 2   WELL01_ICV_BottomDP  91563 non-null   object        \n",
      " 3   WELL01_ICV_TopDP     100270 non-null  object        \n",
      " 4   WELL01_MA2_T         106119 non-null  object        \n",
      " 5   WELL01_MA4_P         568577 non-null  object        \n",
      " 6   WELL01_MA4_T         98564 non-null   object        \n",
      " 7   WELL01_MA_36         328529 non-null  object        \n",
      " 8   WELL01_MA_37         199141 non-null  object        \n",
      " 9   WELL01_TubingDP      113496 non-null  object        \n",
      "dtypes: datetime64[ns](1), object(9)\n",
      "memory usage: 47.8+ MB\n"
     ]
    }
   ],
   "source": [
    "df.info()"
   ]
  },
  {
   "cell_type": "code",
   "execution_count": 4,
   "id": "06bd364e",
   "metadata": {},
   "outputs": [
    {
     "data": {
      "text/html": [
       "<div>\n",
       "<style scoped>\n",
       "    .dataframe tbody tr th:only-of-type {\n",
       "        vertical-align: middle;\n",
       "    }\n",
       "\n",
       "    .dataframe tbody tr th {\n",
       "        vertical-align: top;\n",
       "    }\n",
       "\n",
       "    .dataframe thead th {\n",
       "        text-align: right;\n",
       "    }\n",
       "</style>\n",
       "<table border=\"1\" class=\"dataframe\">\n",
       "  <thead>\n",
       "    <tr style=\"text-align: right;\">\n",
       "      <th></th>\n",
       "      <th>timestamp</th>\n",
       "      <th>FPSO_choke</th>\n",
       "      <th>WELL01_ICV_BottomDP</th>\n",
       "      <th>WELL01_ICV_TopDP</th>\n",
       "      <th>WELL01_MA2_T</th>\n",
       "      <th>WELL01_MA4_P</th>\n",
       "      <th>WELL01_MA4_T</th>\n",
       "      <th>WELL01_MA_36</th>\n",
       "      <th>WELL01_MA_37</th>\n",
       "      <th>WELL01_TubingDP</th>\n",
       "    </tr>\n",
       "  </thead>\n",
       "  <tbody>\n",
       "    <tr>\n",
       "      <th>0</th>\n",
       "      <td>2018-01-01 00:01:30</td>\n",
       "      <td>0.0</td>\n",
       "      <td>NaN</td>\n",
       "      <td>NaN</td>\n",
       "      <td>86.09845</td>\n",
       "      <td>643.5891</td>\n",
       "      <td>86.11267</td>\n",
       "      <td>NaN</td>\n",
       "      <td>NaN</td>\n",
       "      <td>NaN</td>\n",
       "    </tr>\n",
       "    <tr>\n",
       "      <th>1</th>\n",
       "      <td>2018-01-01 00:02:00</td>\n",
       "      <td>0.0</td>\n",
       "      <td>NaN</td>\n",
       "      <td>NaN</td>\n",
       "      <td>NaN</td>\n",
       "      <td>643.5891</td>\n",
       "      <td>NaN</td>\n",
       "      <td>NaN</td>\n",
       "      <td>NaN</td>\n",
       "      <td>NaN</td>\n",
       "    </tr>\n",
       "    <tr>\n",
       "      <th>2</th>\n",
       "      <td>2018-01-01 01:51:00</td>\n",
       "      <td>0.0</td>\n",
       "      <td>NaN</td>\n",
       "      <td>NaN</td>\n",
       "      <td>NaN</td>\n",
       "      <td>643.5936</td>\n",
       "      <td>NaN</td>\n",
       "      <td>NaN</td>\n",
       "      <td>NaN</td>\n",
       "      <td>NaN</td>\n",
       "    </tr>\n",
       "    <tr>\n",
       "      <th>3</th>\n",
       "      <td>2018-01-01 01:51:30</td>\n",
       "      <td>0.2625008</td>\n",
       "      <td>NaN</td>\n",
       "      <td>NaN</td>\n",
       "      <td>NaN</td>\n",
       "      <td>643.5936</td>\n",
       "      <td>NaN</td>\n",
       "      <td>NaN</td>\n",
       "      <td>NaN</td>\n",
       "      <td>NaN</td>\n",
       "    </tr>\n",
       "    <tr>\n",
       "      <th>4</th>\n",
       "      <td>2018-01-01 01:52:30</td>\n",
       "      <td>0.2625008</td>\n",
       "      <td>NaN</td>\n",
       "      <td>NaN</td>\n",
       "      <td>NaN</td>\n",
       "      <td>643.5936</td>\n",
       "      <td>NaN</td>\n",
       "      <td>NaN</td>\n",
       "      <td>NaN</td>\n",
       "      <td>NaN</td>\n",
       "    </tr>\n",
       "  </tbody>\n",
       "</table>\n",
       "</div>"
      ],
      "text/plain": [
       "            timestamp FPSO_choke WELL01_ICV_BottomDP WELL01_ICV_TopDP  \\\n",
       "0 2018-01-01 00:01:30        0.0                 NaN              NaN   \n",
       "1 2018-01-01 00:02:00        0.0                 NaN              NaN   \n",
       "2 2018-01-01 01:51:00        0.0                 NaN              NaN   \n",
       "3 2018-01-01 01:51:30  0.2625008                 NaN              NaN   \n",
       "4 2018-01-01 01:52:30  0.2625008                 NaN              NaN   \n",
       "\n",
       "  WELL01_MA2_T WELL01_MA4_P WELL01_MA4_T WELL01_MA_36 WELL01_MA_37  \\\n",
       "0     86.09845     643.5891     86.11267          NaN          NaN   \n",
       "1          NaN     643.5891          NaN          NaN          NaN   \n",
       "2          NaN     643.5936          NaN          NaN          NaN   \n",
       "3          NaN     643.5936          NaN          NaN          NaN   \n",
       "4          NaN     643.5936          NaN          NaN          NaN   \n",
       "\n",
       "  WELL01_TubingDP  \n",
       "0             NaN  \n",
       "1             NaN  \n",
       "2             NaN  \n",
       "3             NaN  \n",
       "4             NaN  "
      ]
     },
     "execution_count": 4,
     "metadata": {},
     "output_type": "execute_result"
    }
   ],
   "source": [
    "df.head()"
   ]
  },
  {
   "cell_type": "code",
   "execution_count": 5,
   "id": "69a4c9e1",
   "metadata": {},
   "outputs": [
    {
     "data": {
      "text/html": [
       "<div>\n",
       "<style scoped>\n",
       "    .dataframe tbody tr th:only-of-type {\n",
       "        vertical-align: middle;\n",
       "    }\n",
       "\n",
       "    .dataframe tbody tr th {\n",
       "        vertical-align: top;\n",
       "    }\n",
       "\n",
       "    .dataframe thead th {\n",
       "        text-align: right;\n",
       "    }\n",
       "</style>\n",
       "<table border=\"1\" class=\"dataframe\">\n",
       "  <thead>\n",
       "    <tr style=\"text-align: right;\">\n",
       "      <th></th>\n",
       "      <th>timestamp</th>\n",
       "      <th>FPSO_choke</th>\n",
       "      <th>WELL01_ICV_BottomDP</th>\n",
       "      <th>WELL01_ICV_TopDP</th>\n",
       "      <th>WELL01_MA2_T</th>\n",
       "      <th>WELL01_MA4_P</th>\n",
       "      <th>WELL01_MA4_T</th>\n",
       "      <th>WELL01_MA_36</th>\n",
       "      <th>WELL01_MA_37</th>\n",
       "      <th>WELL01_TubingDP</th>\n",
       "    </tr>\n",
       "  </thead>\n",
       "  <tbody>\n",
       "    <tr>\n",
       "      <th>23455</th>\n",
       "      <td>2019-08-21 11:09:39.272003</td>\n",
       "      <td>0.0</td>\n",
       "      <td>NaN</td>\n",
       "      <td>NaN</td>\n",
       "      <td>NaN</td>\n",
       "      <td>596.5763</td>\n",
       "      <td>NaN</td>\n",
       "      <td>76.23967</td>\n",
       "      <td>NaN</td>\n",
       "      <td>NaN</td>\n",
       "    </tr>\n",
       "    <tr>\n",
       "      <th>23456</th>\n",
       "      <td>2019-08-21 19:04:00.048004</td>\n",
       "      <td>0.0</td>\n",
       "      <td>NaN</td>\n",
       "      <td>NaN</td>\n",
       "      <td>NaN</td>\n",
       "      <td>596.4357</td>\n",
       "      <td>NaN</td>\n",
       "      <td>NaN</td>\n",
       "      <td>231.161</td>\n",
       "      <td>NaN</td>\n",
       "    </tr>\n",
       "    <tr>\n",
       "      <th>23457</th>\n",
       "      <td>2019-08-22 02:56:30.068008</td>\n",
       "      <td>0.0</td>\n",
       "      <td>NaN</td>\n",
       "      <td>NaN</td>\n",
       "      <td>NaN</td>\n",
       "      <td>596.3318</td>\n",
       "      <td>NaN</td>\n",
       "      <td>NaN</td>\n",
       "      <td>231.4965</td>\n",
       "      <td>NaN</td>\n",
       "    </tr>\n",
       "    <tr>\n",
       "      <th>23458</th>\n",
       "      <td>2019-08-22 10:49:00.078003</td>\n",
       "      <td>0.0</td>\n",
       "      <td>NaN</td>\n",
       "      <td>NaN</td>\n",
       "      <td>NaN</td>\n",
       "      <td>596.212</td>\n",
       "      <td>NaN</td>\n",
       "      <td>NaN</td>\n",
       "      <td>NaN</td>\n",
       "      <td>NaN</td>\n",
       "    </tr>\n",
       "    <tr>\n",
       "      <th>23459</th>\n",
       "      <td>2019-08-22 18:41:00.688004</td>\n",
       "      <td>0.0</td>\n",
       "      <td>NaN</td>\n",
       "      <td>NaN</td>\n",
       "      <td>NaN</td>\n",
       "      <td>596.1424</td>\n",
       "      <td>NaN</td>\n",
       "      <td>NaN</td>\n",
       "      <td>NaN</td>\n",
       "      <td>NaN</td>\n",
       "    </tr>\n",
       "  </tbody>\n",
       "</table>\n",
       "</div>"
      ],
      "text/plain": [
       "                       timestamp FPSO_choke WELL01_ICV_BottomDP  \\\n",
       "23455 2019-08-21 11:09:39.272003        0.0                 NaN   \n",
       "23456 2019-08-21 19:04:00.048004        0.0                 NaN   \n",
       "23457 2019-08-22 02:56:30.068008        0.0                 NaN   \n",
       "23458 2019-08-22 10:49:00.078003        0.0                 NaN   \n",
       "23459 2019-08-22 18:41:00.688004        0.0                 NaN   \n",
       "\n",
       "      WELL01_ICV_TopDP WELL01_MA2_T WELL01_MA4_P WELL01_MA4_T WELL01_MA_36  \\\n",
       "23455              NaN          NaN     596.5763          NaN     76.23967   \n",
       "23456              NaN          NaN     596.4357          NaN          NaN   \n",
       "23457              NaN          NaN     596.3318          NaN          NaN   \n",
       "23458              NaN          NaN      596.212          NaN          NaN   \n",
       "23459              NaN          NaN     596.1424          NaN          NaN   \n",
       "\n",
       "      WELL01_MA_37 WELL01_TubingDP  \n",
       "23455          NaN             NaN  \n",
       "23456      231.161             NaN  \n",
       "23457     231.4965             NaN  \n",
       "23458          NaN             NaN  \n",
       "23459          NaN             NaN  "
      ]
     },
     "execution_count": 5,
     "metadata": {},
     "output_type": "execute_result"
    }
   ],
   "source": [
    "df.tail()"
   ]
  },
  {
   "cell_type": "code",
   "execution_count": 6,
   "id": "b0bd4347",
   "metadata": {},
   "outputs": [
    {
     "data": {
      "text/plain": [
       "timestamp                   0\n",
       "FPSO_choke                  0\n",
       "WELL01_ICV_BottomDP    477440\n",
       "WELL01_ICV_TopDP       468733\n",
       "WELL01_MA2_T           462884\n",
       "WELL01_MA4_P              426\n",
       "WELL01_MA4_T           470439\n",
       "WELL01_MA_36           240474\n",
       "WELL01_MA_37           369862\n",
       "WELL01_TubingDP        455507\n",
       "dtype: int64"
      ]
     },
     "execution_count": 6,
     "metadata": {},
     "output_type": "execute_result"
    }
   ],
   "source": [
    "df.isna().sum()"
   ]
  },
  {
   "cell_type": "markdown",
   "id": "c4404140",
   "metadata": {},
   "source": [
    "### Visualizing missing values"
   ]
  },
  {
   "cell_type": "code",
   "execution_count": 7,
   "id": "f631b40c",
   "metadata": {
    "scrolled": false
   },
   "outputs": [
    {
     "data": {
      "image/png": "[encoded data removed]",
      "text/plain": [
       "<Figure size 1800x720 with 2 Axes>"
      ]
     },
     "metadata": {
      "needs_background": "light"
     },
     "output_type": "display_data"
    }
   ],
   "source": [
    "msno.matrix(df);"
   ]
  },
  {
   "cell_type": "markdown",
   "id": "47de4ca1",
   "metadata": {},
   "source": [
    "### Cleaning strings in df to convert variables format"
   ]
  },
  {
   "cell_type": "code",
   "execution_count": 8,
   "id": "703d0b16",
   "metadata": {
    "scrolled": false
   },
   "outputs": [
    {
     "data": {
      "text/html": [
       "<div>\n",
       "<style scoped>\n",
       "    .dataframe tbody tr th:only-of-type {\n",
       "        vertical-align: middle;\n",
       "    }\n",
       "\n",
       "    .dataframe tbody tr th {\n",
       "        vertical-align: top;\n",
       "    }\n",
       "\n",
       "    .dataframe thead th {\n",
       "        text-align: right;\n",
       "    }\n",
       "</style>\n",
       "<table border=\"1\" class=\"dataframe\">\n",
       "  <thead>\n",
       "    <tr style=\"text-align: right;\">\n",
       "      <th></th>\n",
       "      <th>timestamp</th>\n",
       "      <th>FPSO_choke</th>\n",
       "      <th>WELL01_ICV_BottomDP</th>\n",
       "      <th>WELL01_ICV_TopDP</th>\n",
       "      <th>WELL01_MA2_T</th>\n",
       "      <th>WELL01_MA4_P</th>\n",
       "      <th>WELL01_MA4_T</th>\n",
       "      <th>WELL01_MA_36</th>\n",
       "      <th>WELL01_MA_37</th>\n",
       "      <th>WELL01_TubingDP</th>\n",
       "    </tr>\n",
       "  </thead>\n",
       "  <tbody>\n",
       "    <tr>\n",
       "      <th>826</th>\n",
       "      <td>2018-01-05 08:38:00.000000</td>\n",
       "      <td>Bad</td>\n",
       "      <td>NaN</td>\n",
       "      <td>NaN</td>\n",
       "      <td>NaN</td>\n",
       "      <td>643.6683</td>\n",
       "      <td>NaN</td>\n",
       "      <td>NaN</td>\n",
       "      <td>259.3432</td>\n",
       "      <td>NaN</td>\n",
       "    </tr>\n",
       "    <tr>\n",
       "      <th>839</th>\n",
       "      <td>2018-01-05 14:26:32.000000</td>\n",
       "      <td>Bad</td>\n",
       "      <td>NaN</td>\n",
       "      <td>NaN</td>\n",
       "      <td>Bad</td>\n",
       "      <td>Bad</td>\n",
       "      <td>Bad</td>\n",
       "      <td>Bad</td>\n",
       "      <td>Bad</td>\n",
       "      <td>NaN</td>\n",
       "    </tr>\n",
       "    <tr>\n",
       "      <th>5069</th>\n",
       "      <td>2018-01-10 10:06:00.000000</td>\n",
       "      <td>Bad</td>\n",
       "      <td>NaN</td>\n",
       "      <td>NaN</td>\n",
       "      <td>87.60981</td>\n",
       "      <td>611.2408</td>\n",
       "      <td>87.75541</td>\n",
       "      <td>Bad</td>\n",
       "      <td>Bad</td>\n",
       "      <td>NaN</td>\n",
       "    </tr>\n",
       "    <tr>\n",
       "      <th>9671</th>\n",
       "      <td>2018-01-13 14:42:06.000000</td>\n",
       "      <td>Bad</td>\n",
       "      <td>NaN</td>\n",
       "      <td>NaN</td>\n",
       "      <td>87.52182</td>\n",
       "      <td>619.6401</td>\n",
       "      <td>Bad</td>\n",
       "      <td>Bad</td>\n",
       "      <td>Bad</td>\n",
       "      <td>NaN</td>\n",
       "    </tr>\n",
       "    <tr>\n",
       "      <th>9672</th>\n",
       "      <td>2018-01-13 14:43:30.000000</td>\n",
       "      <td>Bad</td>\n",
       "      <td>NaN</td>\n",
       "      <td>NaN</td>\n",
       "      <td>Bad</td>\n",
       "      <td>Bad</td>\n",
       "      <td>Bad</td>\n",
       "      <td>Bad</td>\n",
       "      <td>Bad</td>\n",
       "      <td>NaN</td>\n",
       "    </tr>\n",
       "    <tr>\n",
       "      <th>...</th>\n",
       "      <td>...</td>\n",
       "      <td>...</td>\n",
       "      <td>...</td>\n",
       "      <td>...</td>\n",
       "      <td>...</td>\n",
       "      <td>...</td>\n",
       "      <td>...</td>\n",
       "      <td>...</td>\n",
       "      <td>...</td>\n",
       "      <td>...</td>\n",
       "    </tr>\n",
       "    <tr>\n",
       "      <th>96</th>\n",
       "      <td>2019-04-28 08:00:00.105011</td>\n",
       "      <td>Bad</td>\n",
       "      <td>NaN</td>\n",
       "      <td>NaN</td>\n",
       "      <td>NaN</td>\n",
       "      <td>Bad</td>\n",
       "      <td>NaN</td>\n",
       "      <td>Bad</td>\n",
       "      <td>Bad</td>\n",
       "      <td>NaN</td>\n",
       "    </tr>\n",
       "    <tr>\n",
       "      <th>7104</th>\n",
       "      <td>2019-05-12 16:47:30.137008</td>\n",
       "      <td>Bad</td>\n",
       "      <td>NaN</td>\n",
       "      <td>NaN</td>\n",
       "      <td>NaN</td>\n",
       "      <td>Bad</td>\n",
       "      <td>NaN</td>\n",
       "      <td>Bad</td>\n",
       "      <td>Bad</td>\n",
       "      <td>NaN</td>\n",
       "    </tr>\n",
       "    <tr>\n",
       "      <th>7106</th>\n",
       "      <td>2019-05-12 17:15:30.217010</td>\n",
       "      <td>Bad</td>\n",
       "      <td>NaN</td>\n",
       "      <td>NaN</td>\n",
       "      <td>Bad</td>\n",
       "      <td>Bad</td>\n",
       "      <td>Bad</td>\n",
       "      <td>Bad</td>\n",
       "      <td>Bad</td>\n",
       "      <td>NaN</td>\n",
       "    </tr>\n",
       "    <tr>\n",
       "      <th>7119</th>\n",
       "      <td>2019-05-15 15:54:30.043014</td>\n",
       "      <td>Bad</td>\n",
       "      <td>NaN</td>\n",
       "      <td>NaN</td>\n",
       "      <td>Bad</td>\n",
       "      <td>Bad</td>\n",
       "      <td>Bad</td>\n",
       "      <td>Bad</td>\n",
       "      <td>Bad</td>\n",
       "      <td>NaN</td>\n",
       "    </tr>\n",
       "    <tr>\n",
       "      <th>7121</th>\n",
       "      <td>2019-05-15 19:45:00.064011</td>\n",
       "      <td>Bad</td>\n",
       "      <td>NaN</td>\n",
       "      <td>NaN</td>\n",
       "      <td>Bad</td>\n",
       "      <td>Bad</td>\n",
       "      <td>Bad</td>\n",
       "      <td>Bad</td>\n",
       "      <td>Bad</td>\n",
       "      <td>NaN</td>\n",
       "    </tr>\n",
       "  </tbody>\n",
       "</table>\n",
       "<p>73 rows × 10 columns</p>\n",
       "</div>"
      ],
      "text/plain": [
       "                      timestamp FPSO_choke WELL01_ICV_BottomDP  \\\n",
       "826  2018-01-05 08:38:00.000000        Bad                 NaN   \n",
       "839  2018-01-05 14:26:32.000000        Bad                 NaN   \n",
       "5069 2018-01-10 10:06:00.000000        Bad                 NaN   \n",
       "9671 2018-01-13 14:42:06.000000        Bad                 NaN   \n",
       "9672 2018-01-13 14:43:30.000000        Bad                 NaN   \n",
       "...                         ...        ...                 ...   \n",
       "96   2019-04-28 08:00:00.105011        Bad                 NaN   \n",
       "7104 2019-05-12 16:47:30.137008        Bad                 NaN   \n",
       "7106 2019-05-12 17:15:30.217010        Bad                 NaN   \n",
       "7119 2019-05-15 15:54:30.043014        Bad                 NaN   \n",
       "7121 2019-05-15 19:45:00.064011        Bad                 NaN   \n",
       "\n",
       "     WELL01_ICV_TopDP WELL01_MA2_T WELL01_MA4_P WELL01_MA4_T WELL01_MA_36  \\\n",
       "826               NaN          NaN     643.6683          NaN          NaN   \n",
       "839               NaN          Bad          Bad          Bad          Bad   \n",
       "5069              NaN     87.60981     611.2408     87.75541          Bad   \n",
       "9671              NaN     87.52182     619.6401          Bad          Bad   \n",
       "9672              NaN          Bad          Bad          Bad          Bad   \n",
       "...               ...          ...          ...          ...          ...   \n",
       "96                NaN          NaN          Bad          NaN          Bad   \n",
       "7104              NaN          NaN          Bad          NaN          Bad   \n",
       "7106              NaN          Bad          Bad          Bad          Bad   \n",
       "7119              NaN          Bad          Bad          Bad          Bad   \n",
       "7121              NaN          Bad          Bad          Bad          Bad   \n",
       "\n",
       "     WELL01_MA_37 WELL01_TubingDP  \n",
       "826      259.3432             NaN  \n",
       "839           Bad             NaN  \n",
       "5069          Bad             NaN  \n",
       "9671          Bad             NaN  \n",
       "9672          Bad             NaN  \n",
       "...           ...             ...  \n",
       "96            Bad             NaN  \n",
       "7104          Bad             NaN  \n",
       "7106          Bad             NaN  \n",
       "7119          Bad             NaN  \n",
       "7121          Bad             NaN  \n",
       "\n",
       "[73 rows x 10 columns]"
      ]
     },
     "execution_count": 8,
     "metadata": {},
     "output_type": "execute_result"
    }
   ],
   "source": [
    "df[df['FPSO_choke'] == 'Bad']"
   ]
  },
  {
   "cell_type": "code",
   "execution_count": 9,
   "id": "57b53d99",
   "metadata": {},
   "outputs": [],
   "source": [
    "df = df.replace('Bad', np.nan)\n",
    "df = df.replace('Out of Serv', np.nan)\n",
    "df = df.replace('Comm Fail', np.nan)\n",
    "df = df.replace('Pt Created', np.nan)\n",
    "df = df.replace('I/O Timeout', np.nan)\n",
    "df = df.replace('Configure', np.nan)"
   ]
  },
  {
   "cell_type": "code",
   "execution_count": 10,
   "id": "a1380efb",
   "metadata": {},
   "outputs": [
    {
     "name": "stdout",
     "output_type": "stream",
     "text": [
      "<class 'pandas.core.frame.DataFrame'>\n",
      "Int64Index: 569003 entries, 0 to 23459\n",
      "Data columns (total 10 columns):\n",
      " #   Column               Non-Null Count   Dtype         \n",
      "---  ------               --------------   -----         \n",
      " 0   timestamp            569003 non-null  datetime64[ns]\n",
      " 1   FPSO_choke           568335 non-null  float64       \n",
      " 2   WELL01_ICV_BottomDP  91560 non-null   float64       \n",
      " 3   WELL01_ICV_TopDP     100267 non-null  float64       \n",
      " 4   WELL01_MA2_T         104716 non-null  float64       \n",
      " 5   WELL01_MA4_P         565897 non-null  float64       \n",
      " 6   WELL01_MA4_T         97142 non-null   float64       \n",
      " 7   WELL01_MA_36         327327 non-null  float64       \n",
      " 8   WELL01_MA_37         197936 non-null  float64       \n",
      " 9   WELL01_TubingDP      113493 non-null  float64       \n",
      "dtypes: datetime64[ns](1), float64(9)\n",
      "memory usage: 47.8 MB\n"
     ]
    }
   ],
   "source": [
    "for col in df.columns:\n",
    "    if col == 'timestamp':\n",
    "        df[col] = df[col].astype('datetime64[ns]')\n",
    "    else:\n",
    "        df[col] = df[col].astype('float64')\n",
    "df.info()"
   ]
  },
  {
   "cell_type": "code",
   "execution_count": 11,
   "id": "23cfa89b",
   "metadata": {},
   "outputs": [
    {
     "data": {
      "text/html": [
       "<div>\n",
       "<style scoped>\n",
       "    .dataframe tbody tr th:only-of-type {\n",
       "        vertical-align: middle;\n",
       "    }\n",
       "\n",
       "    .dataframe tbody tr th {\n",
       "        vertical-align: top;\n",
       "    }\n",
       "\n",
       "    .dataframe thead th {\n",
       "        text-align: right;\n",
       "    }\n",
       "</style>\n",
       "<table border=\"1\" class=\"dataframe\">\n",
       "  <thead>\n",
       "    <tr style=\"text-align: right;\">\n",
       "      <th></th>\n",
       "      <th>timestamp</th>\n",
       "      <th>FPSO_choke</th>\n",
       "      <th>WELL01_ICV_BottomDP</th>\n",
       "      <th>WELL01_ICV_TopDP</th>\n",
       "      <th>WELL01_MA2_T</th>\n",
       "      <th>WELL01_MA4_P</th>\n",
       "      <th>WELL01_MA4_T</th>\n",
       "      <th>WELL01_MA_36</th>\n",
       "      <th>WELL01_MA_37</th>\n",
       "      <th>WELL01_TubingDP</th>\n",
       "    </tr>\n",
       "  </thead>\n",
       "  <tbody>\n",
       "    <tr>\n",
       "      <th>0</th>\n",
       "      <td>2018-01-01 00:01:30</td>\n",
       "      <td>0.000000</td>\n",
       "      <td>NaN</td>\n",
       "      <td>NaN</td>\n",
       "      <td>86.09845</td>\n",
       "      <td>643.5891</td>\n",
       "      <td>86.11267</td>\n",
       "      <td>NaN</td>\n",
       "      <td>NaN</td>\n",
       "      <td>NaN</td>\n",
       "    </tr>\n",
       "    <tr>\n",
       "      <th>1</th>\n",
       "      <td>2018-01-01 00:02:00</td>\n",
       "      <td>0.000000</td>\n",
       "      <td>NaN</td>\n",
       "      <td>NaN</td>\n",
       "      <td>NaN</td>\n",
       "      <td>643.5891</td>\n",
       "      <td>NaN</td>\n",
       "      <td>NaN</td>\n",
       "      <td>NaN</td>\n",
       "      <td>NaN</td>\n",
       "    </tr>\n",
       "    <tr>\n",
       "      <th>2</th>\n",
       "      <td>2018-01-01 01:51:00</td>\n",
       "      <td>0.000000</td>\n",
       "      <td>NaN</td>\n",
       "      <td>NaN</td>\n",
       "      <td>NaN</td>\n",
       "      <td>643.5936</td>\n",
       "      <td>NaN</td>\n",
       "      <td>NaN</td>\n",
       "      <td>NaN</td>\n",
       "      <td>NaN</td>\n",
       "    </tr>\n",
       "    <tr>\n",
       "      <th>3</th>\n",
       "      <td>2018-01-01 01:51:30</td>\n",
       "      <td>0.262501</td>\n",
       "      <td>NaN</td>\n",
       "      <td>NaN</td>\n",
       "      <td>NaN</td>\n",
       "      <td>643.5936</td>\n",
       "      <td>NaN</td>\n",
       "      <td>NaN</td>\n",
       "      <td>NaN</td>\n",
       "      <td>NaN</td>\n",
       "    </tr>\n",
       "    <tr>\n",
       "      <th>4</th>\n",
       "      <td>2018-01-01 01:52:30</td>\n",
       "      <td>0.262501</td>\n",
       "      <td>NaN</td>\n",
       "      <td>NaN</td>\n",
       "      <td>NaN</td>\n",
       "      <td>643.5936</td>\n",
       "      <td>NaN</td>\n",
       "      <td>NaN</td>\n",
       "      <td>NaN</td>\n",
       "      <td>NaN</td>\n",
       "    </tr>\n",
       "  </tbody>\n",
       "</table>\n",
       "</div>"
      ],
      "text/plain": [
       "            timestamp  FPSO_choke  WELL01_ICV_BottomDP  WELL01_ICV_TopDP  \\\n",
       "0 2018-01-01 00:01:30    0.000000                  NaN               NaN   \n",
       "1 2018-01-01 00:02:00    0.000000                  NaN               NaN   \n",
       "2 2018-01-01 01:51:00    0.000000                  NaN               NaN   \n",
       "3 2018-01-01 01:51:30    0.262501                  NaN               NaN   \n",
       "4 2018-01-01 01:52:30    0.262501                  NaN               NaN   \n",
       "\n",
       "   WELL01_MA2_T  WELL01_MA4_P  WELL01_MA4_T  WELL01_MA_36  WELL01_MA_37  \\\n",
       "0      86.09845      643.5891      86.11267           NaN           NaN   \n",
       "1           NaN      643.5891           NaN           NaN           NaN   \n",
       "2           NaN      643.5936           NaN           NaN           NaN   \n",
       "3           NaN      643.5936           NaN           NaN           NaN   \n",
       "4           NaN      643.5936           NaN           NaN           NaN   \n",
       "\n",
       "   WELL01_TubingDP  \n",
       "0              NaN  \n",
       "1              NaN  \n",
       "2              NaN  \n",
       "3              NaN  \n",
       "4              NaN  "
      ]
     },
     "execution_count": 11,
     "metadata": {},
     "output_type": "execute_result"
    }
   ],
   "source": [
    "df.head()"
   ]
  },
  {
   "cell_type": "code",
   "execution_count": 12,
   "id": "53e51120",
   "metadata": {},
   "outputs": [
    {
     "data": {
      "text/plain": [
       "['../inputs/pre-processed/all_data_clean.pkl']"
      ]
     },
     "execution_count": 12,
     "metadata": {},
     "output_type": "execute_result"
    }
   ],
   "source": [
    "joblib.dump(df, '../inputs/pre-processed/all_data_clean.pkl')"
   ]
  },
  {
   "cell_type": "code",
   "execution_count": null,
   "id": "04e389a0",
   "metadata": {},
   "outputs": [],
   "source": [
    "df['timestamp'] = df['timestamp'].apply(lambda row: row.round(freq='d'))"
   ]
  },
  {
   "cell_type": "code",
   "execution_count": null,
   "id": "375461fc",
   "metadata": {},
   "outputs": [],
   "source": [
    "df"
   ]
  },
  {
   "cell_type": "code",
   "execution_count": null,
   "id": "0f63c2f4",
   "metadata": {},
   "outputs": [],
   "source": [
    "# Taking daily mean and std\n",
    "daily_stats = df.groupby(by='timestamp').agg([np.mean, np.std])\n",
    "\n",
    "daily_stats"
   ]
  },
  {
   "cell_type": "code",
   "execution_count": null,
   "id": "9804fc49",
   "metadata": {},
   "outputs": [],
   "source": [
    "# Swapping levels of columns index\n",
    "daily_stats.columns = daily_stats.columns.swaplevel()\n",
    "daily_stats"
   ]
  },
  {
   "cell_type": "code",
   "execution_count": null,
   "id": "af097495",
   "metadata": {},
   "outputs": [],
   "source": [
    "daily_stats.info()"
   ]
  },
  {
   "cell_type": "markdown",
   "id": "3cd398da",
   "metadata": {},
   "source": [
    "### ICVs action history"
   ]
  },
  {
   "cell_type": "code",
   "execution_count": null,
   "id": "938dd246",
   "metadata": {},
   "outputs": [],
   "source": [
    "icv_action_hist = joblib.load('../inputs/pre-processed/icv_action_hist.pkl')\n",
    "icv_action_hist"
   ]
  },
  {
   "cell_type": "code",
   "execution_count": null,
   "id": "a2e2221d",
   "metadata": {},
   "outputs": [],
   "source": [
    "icv_action_hist.info()"
   ]
  },
  {
   "cell_type": "code",
   "execution_count": null,
   "id": "c4632b18",
   "metadata": {
    "scrolled": false
   },
   "outputs": [],
   "source": [
    "icv_action_hist.rename(columns={'Data': 'timestamp'}, inplace=True)\n",
    "\n",
    "icv_action_hist"
   ]
  },
  {
   "cell_type": "code",
   "execution_count": null,
   "id": "95e6ef43",
   "metadata": {},
   "outputs": [],
   "source": [
    "icv_action_hist['timestamp'] = icv_action_hist['timestamp'].astype('datetime64[ns]')\n",
    "icv_action_hist.set_index('timestamp', inplace=True)\n",
    "icv_action_hist.head()"
   ]
  },
  {
   "cell_type": "markdown",
   "id": "7ea98fa5",
   "metadata": {},
   "source": [
    "### Combining process data and ICV action data"
   ]
  },
  {
   "cell_type": "code",
   "execution_count": null,
   "id": "ad5e9ddc",
   "metadata": {},
   "outputs": [],
   "source": [
    "df_action = pd.merge_asof(daily_stats, icv_action_hist, on='timestamp',\\\n",
    "                   tolerance=pd.Timedelta('1d'), direction='nearest')"
   ]
  },
  {
   "cell_type": "code",
   "execution_count": null,
   "id": "f618f3a1",
   "metadata": {},
   "outputs": [],
   "source": [
    "df_action.info()"
   ]
  },
  {
   "cell_type": "code",
   "execution_count": null,
   "id": "2c96e130",
   "metadata": {},
   "outputs": [],
   "source": [
    "df_action.head()"
   ]
  },
  {
   "cell_type": "code",
   "execution_count": null,
   "id": "4332ec10",
   "metadata": {},
   "outputs": [],
   "source": [
    "df_action.tail()"
   ]
  },
  {
   "cell_type": "code",
   "execution_count": null,
   "id": "f7fc9572",
   "metadata": {},
   "outputs": [],
   "source": [
    "msno.matrix(df_action);"
   ]
  },
  {
   "cell_type": "code",
   "execution_count": null,
   "id": "855ed92a",
   "metadata": {},
   "outputs": [],
   "source": [
    "joblib.dump(df_action, '../inputs/pre-processed/df_action.pkl')\n",
    "joblib.dump(daily_stats, '../inputs/pre-processed/daily_stats.pkl')"
   ]
  }
 ],
 "metadata": {
  "kernelspec": {
   "display_name": "Python 3 (ipykernel)",
   "language": "python",
   "name": "python3"
  },
  "language_info": {
   "codemirror_mode": {
    "name": "ipython",
    "version": 3
   },
   "file_extension": ".py",
   "mimetype": "text/x-python",
   "name": "python",
   "nbconvert_exporter": "python",
   "pygments_lexer": "ipython3",
   "version": "3.9.12"
  }
 },
 "nbformat": 4,
 "nbformat_minor": 5
}
